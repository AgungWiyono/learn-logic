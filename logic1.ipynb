{
 "cells": [
  {
   "cell_type": "code",
   "execution_count": 16,
   "metadata": {},
   "outputs": [],
   "source": [
    "# For the python2 script, lookup at .py file file\n",
    "# This script is from my own exploration\n",
    "# For the tutorial based script, see logic1-vid.ipynb"
   ]
  },
  {
   "cell_type": "code",
   "execution_count": 31,
   "metadata": {},
   "outputs": [],
   "source": [
    "import math"
   ]
  },
  {
   "cell_type": "code",
   "execution_count": 1,
   "metadata": {},
   "outputs": [
    {
     "name": "stdout",
     "output_type": "stream",
     "text": [
      "How many row do you want?5\n",
      "*\n",
      " *\n",
      "  *\n",
      "   *\n",
      "    *\n"
     ]
    }
   ],
   "source": [
    "# Question 1\n",
    "while True:\n",
    "    try:\n",
    "        size = int(input('How many row do you want?'))\n",
    "        assert size>0\n",
    "        assert type(size)==int\n",
    "        break\n",
    "    except AssertionError:\n",
    "        print(\"Please enter number bigger than 0\")\n",
    "        print('')\n",
    "\n",
    "for i in range(size):\n",
    "    print('{}*'.format(' '*i))"
   ]
  },
  {
   "cell_type": "code",
   "execution_count": 2,
   "metadata": {},
   "outputs": [
    {
     "name": "stdout",
     "output_type": "stream",
     "text": [
      "How many row do you want?7\n",
      "       *\n",
      "      *\n",
      "     *\n",
      "    *\n",
      "   *\n",
      "  *\n",
      " *\n",
      "*\n"
     ]
    }
   ],
   "source": [
    "# Question 2\n",
    "while True:\n",
    "    try:\n",
    "        limit = int(input('How many row do you want?'))\n",
    "        assert limit>0\n",
    "        break\n",
    "    except AssertionError:\n",
    "        print(\"You can't print 0 line\")\n",
    "        print('')\n",
    "\n",
    "for i in range(limit,-1,-1):\n",
    "    print('{}*'.format(' '*i))"
   ]
  },
  {
   "cell_type": "code",
   "execution_count": 8,
   "metadata": {},
   "outputs": [
    {
     "name": "stdout",
     "output_type": "stream",
     "text": [
      "How many row do you want?9\n",
      "*       *\n",
      " *     * \n",
      "  *   *  \n",
      "   * *   \n",
      "    *    \n",
      "   * *   \n",
      "  *   *  \n",
      " *     * \n",
      "*       *\n"
     ]
    }
   ],
   "source": [
    "# Question 3\n",
    "while True:\n",
    "    try:\n",
    "        size = int(input('How many row do you want?'))\n",
    "        assert size>0\n",
    "        break\n",
    "    except AssertionError:\n",
    "        print(\"You can't print 0 line\")\n",
    "        print('')\n",
    "\n",
    "for i in range(size):\n",
    "    print(''.join('*' if j==i or j==size-1-i else ' ' for j in range(size)))"
   ]
  },
  {
   "cell_type": "code",
   "execution_count": 15,
   "metadata": {},
   "outputs": [
    {
     "name": "stdout",
     "output_type": "stream",
     "text": [
      "How many row do you want?9\n",
      "*   *   *\n",
      " *  *  * \n",
      "  * * *  \n",
      "   ***   \n",
      "*********\n",
      "   ***   \n",
      "  * * *  \n",
      " *  *  * \n",
      "*   *   *\n"
     ]
    }
   ],
   "source": [
    "# Question 4\n",
    "while True:\n",
    "    try:\n",
    "        size = int(input('How many row do you want?'))\n",
    "        assert size>0\n",
    "        break\n",
    "    except AssertionError:\n",
    "        print(\"You can't print 0 line\")\n",
    "        print('')\n",
    "\n",
    "for i in range(size):\n",
    "    if i==size//2:\n",
    "        print('*'*size)\n",
    "    else:\n",
    "        print(''.join('*' if j==i or j==size-1-i or j==size//2 else ' ' for j in range(size)))"
   ]
  },
  {
   "cell_type": "code",
   "execution_count": 3,
   "metadata": {},
   "outputs": [
    {
     "name": "stdout",
     "output_type": "stream",
     "text": [
      "How many row do you want?9\n",
      "*_______\n",
      "**______\n",
      "***_____\n",
      "****____\n",
      "*****___\n",
      "******__\n",
      "*******_\n",
      "********\n",
      "*********\n"
     ]
    }
   ],
   "source": [
    "# Question 5\n",
    "while True:\n",
    "    try:\n",
    "        size = int(input('How many row do you want?'))\n",
    "        assert size>0\n",
    "        break\n",
    "    except AssertionError:\n",
    "        print(\"You can't print 0 line\")\n",
    "        print('')\n",
    "\n",
    "for i in range(1,size+1):\n",
    "    print('*'*i, end='')\n",
    "    print('_'*(size-i-1))"
   ]
  },
  {
   "cell_type": "code",
   "execution_count": 12,
   "metadata": {},
   "outputs": [
    {
     "name": "stdout",
     "output_type": "stream",
     "text": [
      "How many row do you want?9\n",
      "        *\n",
      "       **\n",
      "      ***\n",
      "     ****\n",
      "    *****\n",
      "   ******\n",
      "  *******\n",
      " ********\n",
      "*********\n"
     ]
    }
   ],
   "source": [
    "# Question 6\n",
    "while True:\n",
    "    try:\n",
    "        size = int(input('How many row do you want?'))\n",
    "        assert size>0\n",
    "        break\n",
    "    except AssertionError:\n",
    "        print(\"You can't print 0 line\")\n",
    "        print('')\n",
    "\n",
    "for i in range(1,size+1):\n",
    "    print('{}{}'.format(' '*(size-i), '*'*i))"
   ]
  },
  {
   "cell_type": "code",
   "execution_count": 17,
   "metadata": {},
   "outputs": [
    {
     "data": {
      "text/plain": [
       "5"
      ]
     },
     "execution_count": 17,
     "metadata": {},
     "output_type": "execute_result"
    }
   ],
   "source": [
    "int(math.ceil(9/2))"
   ]
  },
  {
   "cell_type": "code",
   "execution_count": 30,
   "metadata": {},
   "outputs": [
    {
     "name": "stdout",
     "output_type": "stream",
     "text": [
      "How many row do you want?9\n",
      "*********\n",
      " *******\n",
      "  *****\n",
      "   ***\n",
      "    *\n",
      "   ***\n",
      "  *****\n",
      " *******\n",
      "*********\n"
     ]
    }
   ],
   "source": [
    "# Question 7\n",
    "while True:\n",
    "    try:\n",
    "        size = int(input('How many row do you want?'))\n",
    "        assert size>0\n",
    "        break\n",
    "    except AssertionError:\n",
    "        print(\"You can't print 0 line\")\n",
    "        print('')\n",
    "\n",
    "median = int(math.ceil(size/2))\n",
    "\n",
    "for i in range(0,median):\n",
    "    print('{}{}'.format(' '*i, '*'*(size-i*2)))\n",
    "\n",
    "for i in range(median-2,-1,-1):\n",
    "    print('{}{}'.format(' '*i, '*'*(size-i*2)))\n"
   ]
  },
  {
   "cell_type": "code",
   "execution_count": 37,
   "metadata": {},
   "outputs": [
    {
     "name": "stdout",
     "output_type": "stream",
     "text": [
      "How many row do you want?9\n",
      "*       *\n",
      "**     **\n",
      "***   ***\n",
      "**** ****\n",
      "*********\n",
      "**** ****\n",
      "***   ***\n",
      "**     **\n",
      "*       *\n"
     ]
    }
   ],
   "source": [
    "#Question 8\n",
    "while True:\n",
    "    try:\n",
    "        size = int(input('How many row do you want?'))\n",
    "        assert size>0\n",
    "        break\n",
    "    except AssertionError:\n",
    "        print(\"You can't print 0 line\")\n",
    "        print('')\n",
    "\n",
    "median = int(math.ceil(size/2))\n",
    "\n",
    "for i in range(median-1):\n",
    "    print('{0}{1}{0}'.format('*'*(i+1), ' '*(size-(i+1)*2)))\n",
    "print('*'*size)\n",
    "\n",
    "for i in range(median-2, -1, -1):\n",
    "    print('{0}{1}{0}'.format('*'*(i+1), ' '*(size-(i+1)*2)))\n"
   ]
  },
  {
   "cell_type": "code",
   "execution_count": null,
   "metadata": {},
   "outputs": [],
   "source": []
  }
 ],
 "metadata": {
  "kernelspec": {
   "display_name": "Python 3",
   "language": "python",
   "name": "python3"
  },
  "language_info": {
   "codemirror_mode": {
    "name": "ipython",
    "version": 3
   },
   "file_extension": ".py",
   "mimetype": "text/x-python",
   "name": "python",
   "nbconvert_exporter": "python",
   "pygments_lexer": "ipython3",
   "version": "3.6.5"
  }
 },
 "nbformat": 4,
 "nbformat_minor": 2
}
