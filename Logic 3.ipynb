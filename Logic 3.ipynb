{
 "cells": [
  {
   "cell_type": "code",
   "execution_count": 1,
   "metadata": {},
   "outputs": [],
   "source": [
    "def crange(param1, param2=None):\n",
    "    if param2==None:\n",
    "        return range(1,param1+1)\n",
    "    else:\n",
    "        return range(param1, param2+1)\n",
    "    \n",
    "def twoDigit(param):\n",
    "    if type(param)==int:\n",
    "        if len(str(param))<2:\n",
    "            return('0{}'.format(str(param)))\n",
    "    else:\n",
    "        if len(param)<2:\n",
    "            return('_{}'.format(param))\n",
    "    return param\n",
    "\n",
    "def println(text):\n",
    "    print(twoDigit(text), end='|')\n",
    "    \n",
    "def fibo1(number):\n",
    "    if number==1 or number==2:\n",
    "        return 1\n",
    "    elif number<1:\n",
    "        return 0\n",
    "    else:\n",
    "        return fibo1(number-1) + fibo1(number-2)\n",
    "\n",
    "def fibo2(number):\n",
    "    if number<=3:\n",
    "        return 1\n",
    "    else:\n",
    "        return fibo2(number-1) + fibo2(number-2) + fibo2(number-3)"
   ]
  },
  {
   "cell_type": "code",
   "execution_count": 2,
   "metadata": {},
   "outputs": [
    {
     "data": {
      "text/plain": [
       "2"
      ]
     },
     "execution_count": 2,
     "metadata": {},
     "output_type": "execute_result"
    }
   ],
   "source": [
    "a = 1 if 3>4 else 2\n",
    "a"
   ]
  },
  {
   "cell_type": "markdown",
   "metadata": {},
   "source": [
    "## Question 1"
   ]
  },
  {
   "cell_type": "code",
   "execution_count": 3,
   "metadata": {},
   "outputs": [
    {
     "name": "stdout",
     "output_type": "stream",
     "text": [
      "01|01|02|03|05|"
     ]
    }
   ],
   "source": [
    "size = 5\n",
    "a, b =0,1\n",
    "\n",
    "for i in crange(5):\n",
    "    println(fibo1(i))\n"
   ]
  },
  {
   "cell_type": "markdown",
   "metadata": {},
   "source": [
    "## Question 2"
   ]
  },
  {
   "cell_type": "code",
   "execution_count": 4,
   "metadata": {},
   "outputs": [
    {
     "name": "stdout",
     "output_type": "stream",
     "text": [
      "01|01|01|03|05|"
     ]
    }
   ],
   "source": [
    "size = 5\n",
    "\n",
    "for i in crange(5):\n",
    "    println(fibo2(i))\n",
    "    "
   ]
  },
  {
   "cell_type": "markdown",
   "metadata": {},
   "source": [
    "## Question 3"
   ]
  },
  {
   "cell_type": "code",
   "execution_count": 5,
   "metadata": {},
   "outputs": [],
   "source": [
    "def gcm(i, j):\n",
    "    if j==0:\n",
    "        return i\n",
    "    else:\n",
    "        return gcm(j, i%j)\n",
    "    \n",
    "def lcm(i,j):\n",
    "    return i*j//gcm(i,j)"
   ]
  },
  {
   "cell_type": "code",
   "execution_count": 6,
   "metadata": {},
   "outputs": [
    {
     "data": {
      "text/plain": [
       "18"
      ]
     },
     "execution_count": 6,
     "metadata": {},
     "output_type": "execute_result"
    }
   ],
   "source": [
    "param1 = 6\n",
    "param2 = 9\n",
    "lcm(param1, param2)"
   ]
  },
  {
   "cell_type": "markdown",
   "metadata": {},
   "source": [
    "## Question 4"
   ]
  },
  {
   "cell_type": "code",
   "execution_count": 17,
   "metadata": {},
   "outputs": [
    {
     "name": "stdout",
     "output_type": "stream",
     "text": [
      "01|_A|_A|_A|_A|_A|_A|_A|16|\n",
      "_D|03|_A|_A|_A|_A|_A|14|_B|\n",
      "_D|_D|05|_A|_A|_A|12|_B|_B|\n",
      "_D|_D|_D|07|_A|10|_B|_B|_B|\n",
      "_D|_D|_D|_D|09|_B|_B|_B|_B|\n",
      "_D|_D|_D|06|_C|11|_B|_B|_B|\n",
      "_D|_D|04|_C|_C|_C|13|_B|_B|\n",
      "_D|02|_C|_C|_C|_C|_C|15|_B|\n",
      "00|_C|_C|_C|_C|_C|_C|_C|17|\n"
     ]
    }
   ],
   "source": [
    "size = 9\n",
    "\n",
    "for i in crange(size):\n",
    "    for j in crange(size):\n",
    "        param = size-(i-1)\n",
    "        if i==j:\n",
    "            println(i*2-1)\n",
    "        elif i==size-(j-1):\n",
    "            println(j*2-2)\n",
    "        elif j>i and j<param:\n",
    "            println('A')\n",
    "        elif i>j and j>param:\n",
    "            println('C')\n",
    "        elif i>j and j<param:\n",
    "            println('D')\n",
    "        elif i<j and j>param:\n",
    "            println('B')\n",
    "        else:\n",
    "            println('_')\n",
    "    print()"
   ]
  },
  {
   "cell_type": "markdown",
   "metadata": {},
   "source": [
    "## Question 5"
   ]
  },
  {
   "cell_type": "code",
   "execution_count": 31,
   "metadata": {},
   "outputs": [
    {
     "name": "stdout",
     "output_type": "stream",
     "text": [
      "00|00|00|00|00|00|00|00|00|\n",
      "01|01|01|01|01|01|01|01|01|\n",
      "02|02|02|02|02|02|02|02|02|\n",
      "03|03|03|03|03|03|03|03|03|\n",
      "04|04|04|04|04|04|04|04|04|\n",
      "03|03|03|03|03|03|03|03|03|\n",
      "02|02|02|02|02|02|02|02|02|\n",
      "01|01|01|01|01|01|01|01|01|\n",
      "00|00|00|00|00|00|00|00|00|\n",
      "===========================\n",
      "00|01|02|03|04|03|02|01|00|\n",
      "00|01|02|03|04|03|02|01|00|\n",
      "00|01|02|03|04|03|02|01|00|\n",
      "00|01|02|03|04|03|02|01|00|\n",
      "00|01|02|03|04|03|02|01|00|\n",
      "00|01|02|03|04|03|02|01|00|\n",
      "00|01|02|03|04|03|02|01|00|\n",
      "00|01|02|03|04|03|02|01|00|\n",
      "00|01|02|03|04|03|02|01|00|\n"
     ]
    }
   ],
   "source": [
    "size = 9\n",
    "bound = size//2\n",
    "\n",
    "for i in crange(-bound, bound):\n",
    "    for j in crange(-bound, bound):\n",
    "        x = bound-abs(i)\n",
    "        println(x)\n",
    "    print()\n",
    "\n",
    "print('='*27)\n",
    "    \n",
    "for i in crange(-bound, bound):\n",
    "    for j in crange(-bound, bound):\n",
    "        y = bound-abs(j)\n",
    "        println(y)\n",
    "    print()"
   ]
  },
  {
   "cell_type": "code",
   "execution_count": 63,
   "metadata": {},
   "outputs": [
    {
     "name": "stdout",
     "output_type": "stream",
     "text": [
      "01|01|01|01|01|01|01|01|01|\n",
      "01|01|01|01|01|01|01|01|01|\n",
      "01|01|02|02|02|02|02|01|01|\n",
      "01|01|02|03|03|03|02|01|01|\n",
      "01|01|02|03|05|03|02|01|01|\n",
      "01|01|02|03|03|03|02|01|01|\n",
      "01|01|02|02|02|02|02|01|01|\n",
      "01|01|01|01|01|01|01|01|01|\n",
      "01|01|01|01|01|01|01|01|01|\n"
     ]
    }
   ],
   "source": [
    "size = 9\n",
    "bound = size//2\n",
    "\n",
    "for i in crange(-bound, bound):\n",
    "    for j in crange(-bound, bound):\n",
    "        x = bound-abs(i)+1\n",
    "        y = bound-abs(j)+1\n",
    "        rest = fibo1(y) if x>y else fibo1(x)\n",
    "        println(rest)\n",
    "    print()"
   ]
  },
  {
   "cell_type": "markdown",
   "metadata": {},
   "source": [
    "## Question 6"
   ]
  },
  {
   "cell_type": "code",
   "execution_count": 37,
   "metadata": {},
   "outputs": [
    {
     "name": "stdout",
     "output_type": "stream",
     "text": [
      "01|01|01|01|01|01|01|01|01|\n",
      "01|__|__|__|__|__|__|__|01|\n",
      "01|__|03|03|03|03|03|__|01|\n",
      "01|__|03|__|__|__|03|__|01|\n",
      "01|__|03|__|05|__|03|__|01|\n",
      "01|__|03|__|__|__|03|__|01|\n",
      "01|__|03|03|03|03|03|__|01|\n",
      "01|__|__|__|__|__|__|__|01|\n",
      "01|01|01|01|01|01|01|01|01|\n"
     ]
    }
   ],
   "source": [
    "size = 9\n",
    "bound = size//2\n",
    "\n",
    "for i in crange(-bound, bound):\n",
    "    for j in crange(-bound, bound):\n",
    "        x = bound-abs(i)+1\n",
    "        y = bound-abs(j)+1\n",
    "        println('_' if y%2==0 else y) if x>y else \\\n",
    "        println('_' if x%2==0 else x)\n",
    "    print()"
   ]
  },
  {
   "cell_type": "code",
   "execution_count": 20,
   "metadata": {},
   "outputs": [
    {
     "name": "stdout",
     "output_type": "stream",
     "text": [
      "a\n"
     ]
    }
   ],
   "source": [
    "print('a') if 3>2 else print('b')"
   ]
  },
  {
   "cell_type": "markdown",
   "metadata": {},
   "source": [
    "## Question 7"
   ]
  },
  {
   "cell_type": "code",
   "execution_count": 36,
   "metadata": {},
   "outputs": [
    {
     "name": "stdout",
     "output_type": "stream",
     "text": [
      "01|01|01|01|01|01|01|01|01|\n",
      "01|__|__|__|__|__|__|__|01|\n",
      "01|__|01|01|01|01|01|__|01|\n",
      "01|__|01|__|__|__|01|__|01|\n",
      "01|__|01|__|02|__|01|__|01|\n",
      "01|__|01|__|__|__|01|__|01|\n",
      "01|__|01|01|01|01|01|__|01|\n",
      "01|__|__|__|__|__|__|__|01|\n",
      "01|01|01|01|01|01|01|01|01|\n"
     ]
    }
   ],
   "source": [
    "size = 9\n",
    "bound = size//2\n",
    "\n",
    "for i in crange(-bound, bound):\n",
    "    for j in crange(-bound, bound):\n",
    "        x = bound-abs(i)+1\n",
    "        y = bound-abs(j)+1\n",
    "        println('_' if y%2==0 else fibo1(y//2+1)) if x>y else \\\n",
    "        println('_' if x%2==0 else fibo1(x//2+1))\n",
    "    print()"
   ]
  },
  {
   "cell_type": "markdown",
   "metadata": {},
   "source": [
    "## Question 8"
   ]
  },
  {
   "cell_type": "code",
   "execution_count": 35,
   "metadata": {},
   "outputs": [
    {
     "name": "stdout",
     "output_type": "stream",
     "text": [
      "01|01|01|01|01|01|01|01|01|\n",
      "01|_A|_A|_A|_A|_A|_A|_A|01|\n",
      "01|_A|01|01|01|01|01|_A|01|\n",
      "01|_A|01|_B|_B|_B|01|_A|01|\n",
      "01|_A|01|_B|02|_B|01|_A|01|\n",
      "01|_A|01|_B|_B|_B|01|_A|01|\n",
      "01|_A|01|01|01|01|01|_A|01|\n",
      "01|_A|_A|_A|_A|_A|_A|_A|01|\n",
      "01|01|01|01|01|01|01|01|01|\n"
     ]
    }
   ],
   "source": [
    "size = 9\n",
    "bound = size//2\n",
    "\n",
    "def char(x):\n",
    "    return chr(64+x//2)\n",
    "\n",
    "def cfib(x):\n",
    "    return fibo1(x//2+1)\n",
    "\n",
    "for i in crange(-bound, bound):\n",
    "    for j in crange(-bound, bound):\n",
    "        x = bound-abs(i)+1\n",
    "        y = bound-abs(j)+1\n",
    "        println(char(y) if y%2==0 else cfib(y)) if x>y else \\\n",
    "        println(char(x) if x%2==0 else cfib(x))\n",
    "    print()"
   ]
  },
  {
   "cell_type": "code",
   "execution_count": 53,
   "metadata": {},
   "outputs": [
    {
     "data": {
      "text/plain": [
       "65"
      ]
     },
     "execution_count": 53,
     "metadata": {},
     "output_type": "execute_result"
    }
   ],
   "source": [
    "ord('A')"
   ]
  },
  {
   "cell_type": "code",
   "execution_count": null,
   "metadata": {},
   "outputs": [],
   "source": []
  }
 ],
 "metadata": {
  "kernelspec": {
   "display_name": "Python 3",
   "language": "python",
   "name": "python3"
  },
  "language_info": {
   "codemirror_mode": {
    "name": "ipython",
    "version": 3
   },
   "file_extension": ".py",
   "mimetype": "text/x-python",
   "name": "python",
   "nbconvert_exporter": "python",
   "pygments_lexer": "ipython3",
   "version": "3.6.7"
  }
 },
 "nbformat": 4,
 "nbformat_minor": 2
}
