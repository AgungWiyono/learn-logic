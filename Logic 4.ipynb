{
 "cells": [
  {
   "cell_type": "code",
   "execution_count": 2,
   "metadata": {},
   "outputs": [],
   "source": [
    "def crange(param1, param2=None):\n",
    "    if param2==None:\n",
    "        return range(1, param1+1)\n",
    "    else :\n",
    "        return range(param1, param2+1)\n",
    "\n",
    "def twoDigit(x):\n",
    "    x = str(x)\n",
    "    if len(x)<2:\n",
    "        res = '0'+x if x.isdigit() else '_'+x\n",
    "        return res\n",
    "    return x\n",
    "\n",
    "def odd(x):\n",
    "    return x*2-1\n",
    "\n",
    "def even(x):\n",
    "    return x%2==0\n",
    "\n",
    "def bprint(x):\n",
    "    print('{}|'.format(x), end='')\n",
    "\n",
    "def btprint(x):\n",
    "    print('{}|'.format(twoDigit(x)), end='')\n",
    "    \n",
    "def fibo(x):\n",
    "    if x<3:\n",
    "        return 1\n",
    "    else:\n",
    "        return fibo(x-1) + fibo(x-2)"
   ]
  },
  {
   "cell_type": "code",
   "execution_count": 83,
   "metadata": {},
   "outputs": [
    {
     "data": {
      "text/plain": [
       "2"
      ]
     },
     "execution_count": 83,
     "metadata": {},
     "output_type": "execute_result"
    }
   ],
   "source": [
    "fibo(3)"
   ]
  },
  {
   "cell_type": "markdown",
   "metadata": {},
   "source": [
    "## Question 1"
   ]
  },
  {
   "cell_type": "code",
   "execution_count": 3,
   "metadata": {},
   "outputs": [
    {
     "name": "stdout",
     "output_type": "stream",
     "text": [
      "_|_|_|_|1|\n",
      "_|_|_|1|2|3|\n",
      "_|_|1|2|3|4|5|\n",
      "_|1|2|3|4|5|6|7|\n",
      "1|2|3|4|5|6|7|8|9|\n"
     ]
    }
   ],
   "source": [
    "size = 9\n",
    "\n",
    "\n",
    "median = size//2+1\n",
    "for i in crange(median):\n",
    "    for s in crange(median-i):\n",
    "        bprint('_')\n",
    "    for j in crange(i*2-1):\n",
    "        bprint(j)\n",
    "    print()"
   ]
  },
  {
   "cell_type": "markdown",
   "metadata": {},
   "source": [
    "## Question 2"
   ]
  },
  {
   "cell_type": "code",
   "execution_count": 27,
   "metadata": {},
   "outputs": [
    {
     "name": "stdout",
     "output_type": "stream",
     "text": [
      "1|2|3|4|5|6|7|8|9|\n",
      "_|1|2|3|4|5|6|7|\n",
      "_|_|1|2|3|4|5|\n",
      "_|_|_|1|2|3|\n",
      "_|_|_|_|1|\n"
     ]
    }
   ],
   "source": [
    "size = 9\n",
    "\n",
    "median = size//2+1\n",
    "for i in range(median, 0, -1):\n",
    "    for x in crange(median-i):\n",
    "        bprint('_')\n",
    "    for y in crange(i*2-1):\n",
    "        bprint(y)\n",
    "    print()"
   ]
  },
  {
   "cell_type": "markdown",
   "metadata": {},
   "source": [
    "## Question 3"
   ]
  },
  {
   "cell_type": "code",
   "execution_count": 3,
   "metadata": {},
   "outputs": [
    {
     "name": "stdout",
     "output_type": "stream",
     "text": [
      "_|_|_|_|1|\n",
      "_|_|_|1|2|3|\n",
      "_|_|1|2|3|4|5|\n",
      "_|1|2|3|4|5|6|7|\n",
      "1|2|3|4|5|6|7|8|9|\n",
      "_|1|2|3|4|5|6|7|\n",
      "_|_|1|2|3|4|5|\n",
      "_|_|_|1|2|3|\n",
      "_|_|_|_|1|\n"
     ]
    }
   ],
   "source": [
    "size = 9\n",
    "\n",
    "bound = 9//2\n",
    "median = 5\n",
    "\n",
    "for i in crange(-bound, bound):\n",
    "    ai = abs(i)\n",
    "    for x in crange(ai):\n",
    "        bprint('_')\n",
    "    for y in crange(odd(median-ai)):\n",
    "        bprint(y)\n",
    "    print()"
   ]
  },
  {
   "cell_type": "markdown",
   "metadata": {},
   "source": [
    "## Question 4"
   ]
  },
  {
   "cell_type": "code",
   "execution_count": 5,
   "metadata": {},
   "outputs": [
    {
     "name": "stdout",
     "output_type": "stream",
     "text": [
      "4|4|4|4|4|4|4|4|4|\n",
      "3|3|3|3|3|3|3|3|3|\n",
      "2|2|2|2|2|2|2|2|2|\n",
      "1|1|1|1|1|1|1|1|1|\n",
      "0|0|0|0|0|0|0|0|0|\n",
      "1|1|1|1|1|1|1|1|1|\n",
      "2|2|2|2|2|2|2|2|2|\n",
      "3|3|3|3|3|3|3|3|3|\n",
      "4|4|4|4|4|4|4|4|4|\n",
      "====================\n",
      "4|3|2|1|0|1|2|3|4|\n",
      "4|3|2|1|0|1|2|3|4|\n",
      "4|3|2|1|0|1|2|3|4|\n",
      "4|3|2|1|0|1|2|3|4|\n",
      "4|3|2|1|0|1|2|3|4|\n",
      "4|3|2|1|0|1|2|3|4|\n",
      "4|3|2|1|0|1|2|3|4|\n",
      "4|3|2|1|0|1|2|3|4|\n",
      "4|3|2|1|0|1|2|3|4|\n"
     ]
    }
   ],
   "source": [
    "size = 9\n",
    "\n",
    "bound = size//2\n",
    "median = bound+1\n",
    "\n",
    "def rev(x):\n",
    "    return bound-x\n",
    "\n",
    "for i in range(-bound, bound+1):\n",
    "    ai = abs(i)\n",
    "    for j in crange(-bound, bound):\n",
    "        aj = abs(j)\n",
    "        bprint('{}'.format(ai))\n",
    "    print()\n",
    "print('='*20)\n",
    "for i in range(-bound, bound+1):\n",
    "    ai = abs(i)\n",
    "    for j in crange(-bound, bound):\n",
    "        aj = abs(j)\n",
    "        bprint('{}'.format(aj))\n",
    "    print()"
   ]
  },
  {
   "cell_type": "code",
   "execution_count": 9,
   "metadata": {},
   "outputs": [
    {
     "name": "stdout",
     "output_type": "stream",
     "text": [
      "__|__|__|__|__|__|01|__|__|__|__|__|__|\n",
      "__|__|__|__|__|01|03|01|__|__|__|__|__|\n",
      "__|__|__|__|01|03|05|03|01|__|__|__|__|\n",
      "__|__|__|01|03|05|07|05|03|01|__|__|__|\n",
      "__|__|01|03|05|07|09|07|05|03|01|__|__|\n",
      "__|01|03|05|07|09|11|09|07|05|03|01|__|\n",
      "01|03|05|07|09|11|13|11|09|07|05|03|01|\n",
      "__|01|03|05|07|09|11|09|07|05|03|01|__|\n",
      "__|__|01|03|05|07|09|07|05|03|01|__|__|\n",
      "__|__|__|01|03|05|07|05|03|01|__|__|__|\n",
      "__|__|__|__|01|03|05|03|01|__|__|__|__|\n",
      "__|__|__|__|__|01|03|01|__|__|__|__|__|\n",
      "__|__|__|__|__|__|01|__|__|__|__|__|__|\n",
      "\n",
      "========================================\n",
      "\n",
      "__|__|__|__|__|__|01|__|__|__|__|__|__|\n",
      "__|__|__|__|__|01|03|01|__|__|__|__|__|\n",
      "__|__|__|__|01|03|05|03|01|__|__|__|__|\n",
      "__|__|__|01|03|05|07|05|03|01|__|__|__|\n",
      "__|__|01|03|05|07|09|07|05|03|01|__|__|\n",
      "__|01|03|05|07|09|11|09|07|05|03|01|__|\n",
      "01|03|05|07|09|11|13|11|09|07|05|03|01|\n",
      "\n",
      "========================================\n",
      "\n",
      "01|03|05|07|09|11|13|11|09|07|05|03|01|\n",
      "__|01|03|05|07|09|11|09|07|05|03|01|__|\n",
      "__|__|01|03|05|07|09|07|05|03|01|__|__|\n",
      "__|__|__|01|03|05|07|05|03|01|__|__|__|\n",
      "__|__|__|__|01|03|05|03|01|__|__|__|__|\n",
      "__|__|__|__|__|01|03|01|__|__|__|__|__|\n"
     ]
    }
   ],
   "source": [
    "size = 13\n",
    "\n",
    "bound = size//2\n",
    "median = bound+1\n",
    "\n",
    "def rev(x):\n",
    "    return bound-x\n",
    "\n",
    "def odd(x):\n",
    "    return x*2-1\n",
    "\n",
    "for i in range(-bound, bound+1):\n",
    "    ai = abs(i)\n",
    "    for j in crange(-bound,bound):\n",
    "        aj = abs(j)\n",
    "        btprint('{}'.format(odd(rev(aj)-ai+1)) if aj<=bound-ai else '_')\n",
    "    print()\n",
    "    \n",
    "print()\n",
    "print('='*40)\n",
    "print()\n",
    "\n",
    "for i in range(-bound, 1):\n",
    "    ai = abs(i)\n",
    "    for j in crange(-bound,bound):\n",
    "        aj = abs(j)\n",
    "        btprint('{}'.format(odd(rev(aj)-ai+1)) if aj<=bound-ai else '_')\n",
    "    print()\n",
    "    \n",
    "print()\n",
    "print('='*40)\n",
    "print()\n",
    "\n",
    "for i in range(0, bound):\n",
    "    ai = abs(i)\n",
    "    for j in crange(-bound,bound):\n",
    "        aj = abs(j)\n",
    "        btprint('{}'.format(odd(rev(aj)-ai+1)) if aj<=bound-ai else '_')\n",
    "    print()"
   ]
  },
  {
   "cell_type": "code",
   "execution_count": null,
   "metadata": {},
   "outputs": [],
   "source": []
  },
  {
   "cell_type": "code",
   "execution_count": 7,
   "metadata": {
    "scrolled": true
   },
   "outputs": [
    {
     "name": "stdout",
     "output_type": "stream",
     "text": [
      "['__', '__', '01', '__', '__', '__', '01', '__', '__']\n",
      "['__', '01', '03', '01', '__', '01', '03', '01', '__']\n",
      "['01', '03', '05', '03', '01', '03', '05', '03', '01']\n",
      "['__', '01', '03', '01', '__', '01', '03', '01', '__']\n",
      "['__', '__', '01', '__', '__', '__', '01', '__', '__']\n"
     ]
    }
   ],
   "source": [
    "size = 5\n",
    "\n",
    "bound = size//2\n",
    "median = bound+1\n",
    "\n",
    "def rev(x):\n",
    "    return bound-x\n",
    "\n",
    "def odd(x):\n",
    "    return x*2-1\n",
    "\n",
    "result=[]\n",
    "for i in range(-bound, bound+1):\n",
    "    line = []\n",
    "    ai = abs(i)\n",
    "    for x in range(2):\n",
    "        for j in crange(-bound+x,bound):\n",
    "            aj = abs(j)\n",
    "            line.append(twoDigit(odd(rev(aj)-ai+1))) if aj<=bound-ai else \\\n",
    "            line.append(twoDigit('_'))\n",
    "            '''\n",
    "            if aj<=bound-ai:\n",
    "                # btprint('{}'.format(odd(rev(aj)-ai+1)))\n",
    "                line.append(twoDigit(odd(rev(aj)-ai+1)))\n",
    "            else:\n",
    "                # btprint('_')\n",
    "                line.append(twoDigit('_'))\n",
    "            '''\n",
    "    result.append(line)\n",
    "        \n",
    "for line in result:\n",
    "    print(line)"
   ]
  },
  {
   "cell_type": "code",
   "execution_count": 10,
   "metadata": {},
   "outputs": [
    {
     "name": "stdout",
     "output_type": "stream",
     "text": [
      "_-|_-|_-|_-|_-|_-|13|_-|_-|_-|_-|_-|_-|_-|_-|_-|_-|_-|13|_-|_-|_-|_-|_-|_-|\n",
      "_-|_-|_-|_-|_-|08|__|08|_-|_-|_-|_-|_-|_-|_-|_-|_-|08|__|08|_-|_-|_-|_-|_-|\n",
      "_-|_-|_-|_-|05|__|05|__|05|_-|_-|_-|_-|_-|_-|_-|05|__|05|__|05|_-|_-|_-|_-|\n",
      "_-|_-|_-|03|__|03|__|03|__|03|_-|_-|_-|_-|_-|03|__|03|__|03|__|03|_-|_-|_-|\n",
      "_-|_-|02|__|02|__|02|__|02|__|02|_-|_-|_-|02|__|02|__|02|__|02|__|02|_-|_-|\n",
      "_-|01|__|01|__|01|__|01|__|01|__|01|_-|01|__|01|__|01|__|01|__|01|__|01|_-|\n",
      "01|__|01|__|02|__|03|__|02|__|01|__|01|__|01|__|02|__|03|__|02|__|01|__|01|\n",
      "_-|01|__|01|__|01|__|01|__|01|__|01|_-|01|__|01|__|01|__|01|__|01|__|01|_-|\n",
      "_-|_-|02|__|02|__|02|__|02|__|02|_-|_-|_-|02|__|02|__|02|__|02|__|02|_-|_-|\n",
      "_-|_-|_-|03|__|03|__|03|__|03|_-|_-|_-|_-|_-|03|__|03|__|03|__|03|_-|_-|_-|\n",
      "_-|_-|_-|_-|05|__|05|__|05|_-|_-|_-|_-|_-|_-|_-|05|__|05|__|05|_-|_-|_-|_-|\n",
      "_-|_-|_-|_-|_-|08|__|08|_-|_-|_-|_-|_-|_-|_-|_-|_-|08|__|08|_-|_-|_-|_-|_-|\n",
      "_-|_-|_-|_-|_-|_-|13|_-|_-|_-|_-|_-|_-|_-|_-|_-|_-|_-|13|_-|_-|_-|_-|_-|_-|\n"
     ]
    }
   ],
   "source": [
    "size = 13\n",
    "\n",
    "bound = size//2\n",
    "median = bound+1\n",
    "\n",
    "def rev(x):\n",
    "    return median-x+1\n",
    "\n",
    "def rodd(x):\n",
    "    return x//2+1\n",
    "\n",
    "for i in range(-bound, bound+1):\n",
    "    ai = abs(i)\n",
    "    \n",
    "    # counter for detecting empty cell inside rhomb\n",
    "    counter = 1\n",
    "    for k in range(2):\n",
    "        for j in crange(-bound+k,bound):\n",
    "            aj = abs(j)\n",
    "            if aj<=bound-ai:\n",
    "                # check for empty cell inside thomb\n",
    "                if even(counter):\n",
    "                    btprint('_')\n",
    "                    counter+=1\n",
    "                else:\n",
    "                    btprint(fibo(rodd(rev(aj+1)))) if ai==0 else\\\n",
    "                    btprint(fibo(ai+1))\n",
    "                    '''\n",
    "                    if ai==0:\n",
    "                        btprint(fibo(rodd(rev(aj+1))))\n",
    "                        # btprint(counter)\n",
    "                    else:\n",
    "                        btprint(fibo(ai+1))\n",
    "                        # btprint(counter)\n",
    "                    '''\n",
    "                    counter+=1\n",
    "            else:\n",
    "                btprint('-')\n",
    "        counter = 1\n",
    "        # Helper to move side first digit on median row after repetition\n",
    "        if ai==0:\n",
    "            counter+=1\n",
    "    print()"
   ]
  },
  {
   "cell_type": "code",
   "execution_count": null,
   "metadata": {},
   "outputs": [],
   "source": []
  }
 ],
 "metadata": {
  "kernelspec": {
   "display_name": "Python 3",
   "language": "python",
   "name": "python3"
  },
  "language_info": {
   "codemirror_mode": {
    "name": "ipython",
    "version": 3
   },
   "file_extension": ".py",
   "mimetype": "text/x-python",
   "name": "python",
   "nbconvert_exporter": "python",
   "pygments_lexer": "ipython3",
   "version": "3.6.7"
  }
 },
 "nbformat": 4,
 "nbformat_minor": 2
}
