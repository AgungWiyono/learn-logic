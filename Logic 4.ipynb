{
 "cells": [
  {
   "cell_type": "code",
   "execution_count": 45,
   "metadata": {},
   "outputs": [],
   "source": [
    "def crange(param1, param2=None):\n",
    "    if param2==None:\n",
    "        return range(1, param1+1)\n",
    "    else :\n",
    "        return range(param1, param2+1)\n",
    "\n",
    "def twoDigit(x):\n",
    "    x = str(x)\n",
    "    if len(x)<2:\n",
    "        res = '0'+x if x.isdigit() else '_'+x\n",
    "        return res\n",
    "    return x\n",
    "\n",
    "def odd(x):\n",
    "    return x*2-1\n",
    "\n",
    "def bprint(x):\n",
    "    print('{}|'.format(x), end='')\n",
    "\n",
    "def btprint(x):\n",
    "    print('{}|'.format(twoDigit(x)), end='')"
   ]
  },
  {
   "cell_type": "code",
   "execution_count": 46,
   "metadata": {},
   "outputs": [
    {
     "data": {
      "text/plain": [
       "5"
      ]
     },
     "execution_count": 46,
     "metadata": {},
     "output_type": "execute_result"
    }
   ],
   "source": [
    "odd(3)"
   ]
  },
  {
   "cell_type": "markdown",
   "metadata": {},
   "source": [
    "## Question 1"
   ]
  },
  {
   "cell_type": "code",
   "execution_count": 10,
   "metadata": {},
   "outputs": [
    {
     "name": "stdout",
     "output_type": "stream",
     "text": [
      "_|_|_|_|1|\n",
      "_|_|_|1|2|3|\n",
      "_|_|1|2|3|4|5|\n",
      "_|1|2|3|4|5|6|7|\n",
      "1|2|3|4|5|6|7|8|9|\n"
     ]
    }
   ],
   "source": [
    "size = 9\n",
    "\n",
    "\n",
    "median = size//2+1\n",
    "for i in crange(median):\n",
    "    for s in crange(median-i):\n",
    "        bprint('_')\n",
    "    for j in crange(i*2-1):\n",
    "        bprint(j)\n",
    "    print()"
   ]
  },
  {
   "cell_type": "markdown",
   "metadata": {},
   "source": [
    "## Question 2"
   ]
  },
  {
   "cell_type": "code",
   "execution_count": 27,
   "metadata": {},
   "outputs": [
    {
     "name": "stdout",
     "output_type": "stream",
     "text": [
      "1|2|3|4|5|6|7|8|9|\n",
      "_|1|2|3|4|5|6|7|\n",
      "_|_|1|2|3|4|5|\n",
      "_|_|_|1|2|3|\n",
      "_|_|_|_|1|\n"
     ]
    }
   ],
   "source": [
    "size = 9\n",
    "\n",
    "median = size//2+1\n",
    "for i in range(median, 0, -1):\n",
    "    for x in crange(median-i):\n",
    "        bprint('_')\n",
    "    for y in crange(i*2-1):\n",
    "        bprint(y)\n",
    "    print()"
   ]
  },
  {
   "cell_type": "markdown",
   "metadata": {},
   "source": [
    "## Question 3"
   ]
  },
  {
   "cell_type": "code",
   "execution_count": 44,
   "metadata": {},
   "outputs": [
    {
     "name": "stdout",
     "output_type": "stream",
     "text": [
      "_|_|_|_|1|\n",
      "_|_|_|1|2|3|\n",
      "_|_|1|2|3|4|5|\n",
      "_|1|2|3|4|5|6|7|\n",
      "1|2|3|4|5|6|7|8|9|\n",
      "_|1|2|3|4|5|6|7|\n",
      "_|_|1|2|3|4|5|\n",
      "_|_|_|1|2|3|\n",
      "_|_|_|_|1|\n"
     ]
    }
   ],
   "source": [
    "size = 9\n",
    "\n",
    "bound = 9//2\n",
    "median = 5\n",
    "\n",
    "for i in crange(-bound, bound):\n",
    "    ai = abs(i)\n",
    "    for x in crange(ai):\n",
    "        bprint('_')\n",
    "    for y in crange((median-ai)*2-1):\n",
    "        bprint(y)\n",
    "    print()"
   ]
  },
  {
   "cell_type": "markdown",
   "metadata": {},
   "source": [
    "## Question 4"
   ]
  },
  {
   "cell_type": "code",
   "execution_count": 50,
   "metadata": {},
   "outputs": [
    {
     "name": "stdout",
     "output_type": "stream",
     "text": [
      "_|_|_|_|_|_|_|_|_|\n",
      "_|_|_|_|_|_|_|_|_|\n",
      "_|_|_|_|_|_|_|_|_|\n",
      "_|_|_|_|_|_|_|_|_|\n",
      "_|_|_|_|_|_|_|_|_|\n"
     ]
    }
   ],
   "source": [
    "size = 9\n",
    "\n",
    "bound = size//2\n",
    "median = bound+1\n",
    "\n",
    "for i in crange(-bound, 0):\n",
    "    ai = abs(i)\n",
    "    for j in crange(-bound, bound):\n",
    "        aj = abs(j)\n",
    "        if aj<\n",
    "        bprint('_')\n",
    "    print()"
   ]
  },
  {
   "cell_type": "code",
   "execution_count": null,
   "metadata": {},
   "outputs": [],
   "source": []
  }
 ],
 "metadata": {
  "kernelspec": {
   "display_name": "Python 3",
   "language": "python",
   "name": "python3"
  },
  "language_info": {
   "codemirror_mode": {
    "name": "ipython",
    "version": 3
   },
   "file_extension": ".py",
   "mimetype": "text/x-python",
   "name": "python",
   "nbconvert_exporter": "python",
   "pygments_lexer": "ipython3",
   "version": "3.6.6"
  }
 },
 "nbformat": 4,
 "nbformat_minor": 2
}
