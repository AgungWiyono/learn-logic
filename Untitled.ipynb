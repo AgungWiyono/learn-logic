{
 "cells": [
  {
   "cell_type": "code",
   "execution_count": 6,
   "metadata": {},
   "outputs": [],
   "source": [
    "def crange(param1, param2=None):\n",
    "    if param2==None:\n",
    "        return range(1, param1+1)\n",
    "    else :\n",
    "        return range(param1, param2+1)\n",
    "\n",
    "def twoDigit(x):\n",
    "    x = str(x)\n",
    "    if len(x)<2:\n",
    "        res = '0'+x if x.isdigit() else '_'+x\n",
    "        return res\n",
    "    return x\n",
    "\n",
    "def bprint(x):\n",
    "    print('{}|'.format(x), end='')\n",
    "\n",
    "def btprint(x):\n",
    "    print('{}|'.format(twoDigit(x)), end='')"
   ]
  },
  {
   "cell_type": "markdown",
   "metadata": {},
   "source": [
    "# Q1"
   ]
  },
  {
   "cell_type": "code",
   "execution_count": 96,
   "metadata": {},
   "outputs": [
    {
     "name": "stdout",
     "output_type": "stream",
     "text": [
      "01|__|__|__|__|__|__|__|__|__|__|\n",
      "__|03|__|__|__|__|__|__|__|__|__|\n",
      "__|__|05|__|__|__|__|__|__|__|__|\n",
      "__|__|__|07|__|__|__|__|__|__|__|\n",
      "__|__|__|__|09|__|__|__|__|__|__|\n",
      "__|__|__|__|__|11|__|__|__|__|__|\n",
      "__|__|__|__|__|__|13|__|__|__|__|\n",
      "__|__|__|__|__|__|__|15|__|__|__|\n",
      "__|__|__|__|__|__|__|__|17|__|__|\n",
      "__|__|__|__|__|__|__|__|__|19|__|\n",
      "__|__|__|__|__|__|__|__|__|__|21|\n"
     ]
    }
   ],
   "source": [
    "size = 9\n",
    "def l2q1(size):\n",
    "    for i in crange(size):\n",
    "        for j in crange(size):\n",
    "            btprint(i*2-1 if i==j else '_')\n",
    "        print()\n",
    "l2q1(11)"
   ]
  },
  {
   "cell_type": "markdown",
   "metadata": {},
   "source": [
    "# Q2 "
   ]
  },
  {
   "cell_type": "code",
   "execution_count": 97,
   "metadata": {},
   "outputs": [
    {
     "name": "stdout",
     "output_type": "stream",
     "text": [
      "__|__|__|__|__|__|__|__|__|__|20|\n",
      "__|__|__|__|__|__|__|__|__|18|__|\n",
      "__|__|__|__|__|__|__|__|16|__|__|\n",
      "__|__|__|__|__|__|__|14|__|__|__|\n",
      "__|__|__|__|__|__|12|__|__|__|__|\n",
      "__|__|__|__|__|10|__|__|__|__|__|\n",
      "__|__|__|__|08|__|__|__|__|__|__|\n",
      "__|__|__|06|__|__|__|__|__|__|__|\n",
      "__|__|04|__|__|__|__|__|__|__|__|\n",
      "__|02|__|__|__|__|__|__|__|__|__|\n",
      "00|__|__|__|__|__|__|__|__|__|__|\n"
     ]
    }
   ],
   "source": [
    "size = 9\n",
    "def l2q2(size):\n",
    "    for i in crange(size):\n",
    "        for j in crange(size):\n",
    "            btprint(j*2-2 if i==size-(j-1) else '_')\n",
    "        print()\n",
    "l2q2(11)"
   ]
  },
  {
   "cell_type": "markdown",
   "metadata": {},
   "source": [
    "# Q3 "
   ]
  },
  {
   "cell_type": "code",
   "execution_count": 99,
   "metadata": {},
   "outputs": [
    {
     "name": "stdout",
     "output_type": "stream",
     "text": [
      "01|__|__|__|__|__|__|__|__|__|20|\n",
      "__|03|__|__|__|__|__|__|__|18|__|\n",
      "__|__|05|__|__|__|__|__|16|__|__|\n",
      "__|__|__|07|__|__|__|14|__|__|__|\n",
      "__|__|__|__|09|__|12|__|__|__|__|\n",
      "__|__|__|__|__|11|__|__|__|__|__|\n",
      "__|__|__|__|08|__|13|__|__|__|__|\n",
      "__|__|__|06|__|__|__|15|__|__|__|\n",
      "__|__|04|__|__|__|__|__|17|__|__|\n",
      "__|02|__|__|__|__|__|__|__|19|__|\n",
      "00|__|__|__|__|__|__|__|__|__|21|\n"
     ]
    }
   ],
   "source": [
    "size =9\n",
    "\n",
    "def l2q3(size):\n",
    "    for i in crange(size):\n",
    "        for j in crange(size):\n",
    "            param = i*2-1 if i==j else (j*2-2 if i==size-(j-1) else '_')\n",
    "            btprint(param)\n",
    "        print()\n",
    "        \n",
    "l2q3(11)"
   ]
  },
  {
   "cell_type": "markdown",
   "metadata": {},
   "source": [
    "# Q4 "
   ]
  },
  {
   "cell_type": "code",
   "execution_count": 100,
   "metadata": {},
   "outputs": [
    {
     "name": "stdout",
     "output_type": "stream",
     "text": [
      "01|__|__|__|__|01|__|__|__|__|20|\n",
      "__|03|__|__|__|03|__|__|__|18|__|\n",
      "__|__|05|__|__|05|__|__|16|__|__|\n",
      "__|__|__|07|__|07|__|14|__|__|__|\n",
      "__|__|__|__|09|09|12|__|__|__|__|\n",
      "00|02|04|06|08|11|12|14|16|18|20|\n",
      "__|__|__|__|08|13|13|__|__|__|__|\n",
      "__|__|__|06|__|15|__|15|__|__|__|\n",
      "__|__|04|__|__|17|__|__|17|__|__|\n",
      "__|02|__|__|__|19|__|__|__|19|__|\n",
      "00|__|__|__|__|21|__|__|__|__|21|\n"
     ]
    }
   ],
   "source": [
    "size = 11\n",
    "\n",
    "def l2q4(size):\n",
    "    for i in crange(size):\n",
    "        for j in crange(size):\n",
    "            cond1 = i==j or j==size//2+1\n",
    "            cond2 = i==size-(j-1) or i==size//2+1\n",
    "            param = i*2-1 if cond1 else (j*2-2 if cond2 else '_')\n",
    "            btprint(param)\n",
    "        print()\n",
    "        \n",
    "l2q4(11)"
   ]
  },
  {
   "cell_type": "markdown",
   "metadata": {},
   "source": [
    "# Q5 "
   ]
  },
  {
   "cell_type": "code",
   "execution_count": 101,
   "metadata": {},
   "outputs": [
    {
     "name": "stdout",
     "output_type": "stream",
     "text": [
      "01|__|__|__|__|__|__|__|__|__|__|\n",
      "03|03|__|__|__|__|__|__|__|__|__|\n",
      "05|05|05|__|__|__|__|__|__|__|__|\n",
      "07|07|07|07|__|__|__|__|__|__|__|\n",
      "09|09|09|09|09|__|__|__|__|__|__|\n",
      "11|11|11|11|11|11|__|__|__|__|__|\n",
      "13|13|13|13|13|13|13|__|__|__|__|\n",
      "15|15|15|15|15|15|15|15|__|__|__|\n",
      "17|17|17|17|17|17|17|17|17|__|__|\n",
      "19|19|19|19|19|19|19|19|19|19|__|\n",
      "21|21|21|21|21|21|21|21|21|21|21|\n"
     ]
    }
   ],
   "source": [
    "size = 11\n",
    "\n",
    "def l2q5(size):\n",
    "    for i in crange(size):\n",
    "        for j in crange(size):\n",
    "            btprint(i*2-1 if i>=j else '_')\n",
    "        print()\n",
    "        \n",
    "l2q5(11)"
   ]
  },
  {
   "cell_type": "markdown",
   "metadata": {},
   "source": [
    "# Q6 "
   ]
  },
  {
   "cell_type": "code",
   "execution_count": 102,
   "metadata": {},
   "outputs": [
    {
     "name": "stdout",
     "output_type": "stream",
     "text": [
      "__|__|__|__|__|__|__|__|__|__|20|\n",
      "__|__|__|__|__|__|__|__|__|18|18|\n",
      "__|__|__|__|__|__|__|__|16|16|16|\n",
      "__|__|__|__|__|__|__|14|14|14|14|\n",
      "__|__|__|__|__|__|12|12|12|12|12|\n",
      "__|__|__|__|__|10|10|10|10|10|10|\n",
      "__|__|__|__|08|08|08|08|08|08|08|\n",
      "__|__|__|06|06|06|06|06|06|06|06|\n",
      "__|__|04|04|04|04|04|04|04|04|04|\n",
      "__|02|02|02|02|02|02|02|02|02|02|\n",
      "00|00|00|00|00|00|00|00|00|00|00|\n"
     ]
    }
   ],
   "source": [
    "size = 9\n",
    "\n",
    "def l2q6(size):\n",
    "    for i in crange(size):\n",
    "        for j in crange(size):\n",
    "            btprint((size-i)*2 if i>=size-(j-1) else '_')\n",
    "        print()\n",
    "        \n",
    "l2q6(11)"
   ]
  },
  {
   "cell_type": "markdown",
   "metadata": {},
   "source": [
    "# L2Q7 "
   ]
  },
  {
   "cell_type": "code",
   "execution_count": 103,
   "metadata": {},
   "outputs": [
    {
     "name": "stdout",
     "output_type": "stream",
     "text": [
      "01|_A|_A|_A|_A|_A|_A|_A|_A|_A|20|\n",
      "__|03|_A|_A|_A|_A|_A|_A|_A|18|__|\n",
      "__|__|05|_A|_A|_A|_A|_A|16|__|__|\n",
      "__|__|__|07|_A|_A|_A|14|__|__|__|\n",
      "__|__|__|__|09|_A|12|__|__|__|__|\n",
      "__|__|__|__|__|11|__|__|__|__|__|\n",
      "__|__|__|__|08|_B|13|__|__|__|__|\n",
      "__|__|__|06|_B|_B|_B|15|__|__|__|\n",
      "__|__|04|_B|_B|_B|_B|_B|17|__|__|\n",
      "__|02|_B|_B|_B|_B|_B|_B|_B|19|__|\n",
      "00|_B|_B|_B|_B|_B|_B|_B|_B|_B|21|\n"
     ]
    }
   ],
   "source": [
    "size = 9\n",
    "\n",
    "def l2q7(size):\n",
    "    for i in crange(size):\n",
    "        for j in crange(size):\n",
    "            if i==j:\n",
    "                btprint(i*2-1)\n",
    "            elif i==size-(j-1):\n",
    "                btprint(j*2-2)\n",
    "            elif i<j and i<size-(j-1):\n",
    "                btprint('A')\n",
    "            elif i>j and i>size-(j-1):\n",
    "                btprint('B')\n",
    "            else:\n",
    "                btprint('_')\n",
    "        print()\n",
    "        \n",
    "l2q7(11)"
   ]
  },
  {
   "cell_type": "markdown",
   "metadata": {},
   "source": [
    "# L2Q8 "
   ]
  },
  {
   "cell_type": "code",
   "execution_count": 104,
   "metadata": {},
   "outputs": [
    {
     "name": "stdout",
     "output_type": "stream",
     "text": [
      "01|__|__|__|__|__|__|__|__|__|20|\n",
      "_A|03|__|__|__|__|__|__|__|18|_B|\n",
      "_A|_A|05|__|__|__|__|__|16|_B|_B|\n",
      "_A|_A|_A|07|__|__|__|14|_B|_B|_B|\n",
      "_A|_A|_A|_A|09|__|12|_B|_B|_B|_B|\n",
      "_A|_A|_A|_A|_A|11|_B|_B|_B|_B|_B|\n",
      "_A|_A|_A|_A|08|__|13|_B|_B|_B|_B|\n",
      "_A|_A|_A|06|__|__|__|15|_B|_B|_B|\n",
      "_A|_A|04|__|__|__|__|__|17|_B|_B|\n",
      "_A|02|__|__|__|__|__|__|__|19|_B|\n",
      "00|__|__|__|__|__|__|__|__|__|21|\n"
     ]
    }
   ],
   "source": [
    "size = 11\n",
    "\n",
    "def l2q8(size):\n",
    "    for i in crange(size):\n",
    "        for j in crange(size):\n",
    "            if i == j:\n",
    "                btprint(i*2-1)\n",
    "            elif i==size-(j-1):\n",
    "                btprint(j*2-2)\n",
    "            elif i<j and i>size-(j-1):\n",
    "                btprint('B')\n",
    "            elif i>j and i<size-(j-1):\n",
    "                btprint('A')\n",
    "            else:\n",
    "                btprint('_')\n",
    "        print()\n",
    "        \n",
    "l2q8(11)"
   ]
  },
  {
   "cell_type": "markdown",
   "metadata": {},
   "source": [
    "# L3Q1 "
   ]
  },
  {
   "cell_type": "code",
   "execution_count": 105,
   "metadata": {},
   "outputs": [
    {
     "name": "stdout",
     "output_type": "stream",
     "text": [
      "01|01|02|03|05|08|13|21|34|55|89|"
     ]
    }
   ],
   "source": [
    "size = 9\n",
    "def fibo1(x):\n",
    "    if x<=2:\n",
    "        return 1\n",
    "    else:\n",
    "        return fibo1(x-1) + fibo1(x-2)\n",
    "\n",
    "def l3q1(size):\n",
    "    for i in crange(size):\n",
    "        btprint(fibo1(i))\n",
    "        \n",
    "l3q1(11)"
   ]
  },
  {
   "cell_type": "markdown",
   "metadata": {},
   "source": [
    "# L3Q2 "
   ]
  },
  {
   "cell_type": "code",
   "execution_count": 106,
   "metadata": {},
   "outputs": [
    {
     "name": "stdout",
     "output_type": "stream",
     "text": [
      "01|01|01|03|05|09|17|31|57|105|193|"
     ]
    }
   ],
   "source": [
    "size = 9\n",
    "def xfibo2(x):\n",
    "    if x<=3:\n",
    "        return 1\n",
    "    else:\n",
    "        return xfibo2(x-1) + xfibo2(x-2) + xfibo2(x-3)\n",
    "\n",
    "def l3q2(size):\n",
    "    for i in crange(size):\n",
    "        btprint(xfibo2(i))\n",
    "        \n",
    "l3q2(11)"
   ]
  },
  {
   "cell_type": "markdown",
   "metadata": {},
   "source": [
    "# L3Q3 "
   ]
  },
  {
   "cell_type": "code",
   "execution_count": 108,
   "metadata": {},
   "outputs": [
    {
     "name": "stdout",
     "output_type": "stream",
     "text": [
      "FPB dari 12 dan 18 adalah 6.\n",
      "KPK dari 12 dan 18 adalah 36.\n"
     ]
    }
   ],
   "source": [
    "def gcd(x, y):\n",
    "    if y==1:\n",
    "        return 1\n",
    "    elif y==0:\n",
    "        return x\n",
    "    else:\n",
    "        return gcd(y, x%y)\n",
    "\n",
    "def lcm(x, y):\n",
    "    if y==1:\n",
    "        return 1\n",
    "    elif y==0:\n",
    "        return x\n",
    "    else:\n",
    "        return int(x*y/gcd(x,y))\n",
    "    \n",
    "def l3q3(x, y):\n",
    "    print('FPB dari {} dan {} adalah {}.'.format(x, y, gcd(x,y)))\n",
    "    print('KPK dari {} dan {} adalah {}.'.format(x ,y, lcm(x,y)))\n",
    "    \n",
    "l3q3(12,18)"
   ]
  },
  {
   "cell_type": "markdown",
   "metadata": {},
   "source": [
    "# L3Q4"
   ]
  },
  {
   "cell_type": "code",
   "execution_count": 109,
   "metadata": {},
   "outputs": [
    {
     "name": "stdout",
     "output_type": "stream",
     "text": [
      "01|_A|_A|_A|_A|_A|_A|_A|_A|_A|20|\n",
      "_D|03|_A|_A|_A|_A|_A|_A|_A|18|_B|\n",
      "_D|_D|05|_A|_A|_A|_A|_A|16|_B|_B|\n",
      "_D|_D|_D|07|_A|_A|_A|14|_B|_B|_B|\n",
      "_D|_D|_D|_D|09|_A|12|_B|_B|_B|_B|\n",
      "_D|_D|_D|_D|_D|11|_B|_B|_B|_B|_B|\n",
      "_D|_D|_D|_D|08|_C|13|_B|_B|_B|_B|\n",
      "_D|_D|_D|06|_C|_C|_C|15|_B|_B|_B|\n",
      "_D|_D|04|_C|_C|_C|_C|_C|17|_B|_B|\n",
      "_D|02|_C|_C|_C|_C|_C|_C|_C|19|_B|\n",
      "00|_C|_C|_C|_C|_C|_C|_C|_C|_C|21|\n"
     ]
    }
   ],
   "source": [
    "size = 9\n",
    "\n",
    "def l3q4(size):\n",
    "    for i in crange(size):\n",
    "        for j in crange(size):\n",
    "            if i==j:\n",
    "                btprint(i*2-1)\n",
    "            elif i==size-(j-1):\n",
    "                btprint(j*2-2)\n",
    "            elif i<j and i<size-(j-1):\n",
    "                btprint('A')\n",
    "            elif i>j and i>size-(j-1):\n",
    "                btprint('C')\n",
    "            elif i<j and i>size-(j-1):\n",
    "                btprint('B')\n",
    "            else:\n",
    "                btprint('D')\n",
    "        print()\n",
    "        \n",
    "l3q4(11)"
   ]
  },
  {
   "cell_type": "markdown",
   "metadata": {},
   "source": [
    "# Q5 "
   ]
  },
  {
   "cell_type": "code",
   "execution_count": 110,
   "metadata": {},
   "outputs": [
    {
     "name": "stdout",
     "output_type": "stream",
     "text": [
      "01|01|01|01|01|01|01|01|01|01|01|\n",
      "01|01|01|01|01|01|01|01|01|01|01|\n",
      "01|01|02|02|02|02|02|02|02|01|01|\n",
      "01|01|02|03|03|03|03|03|02|01|01|\n",
      "01|01|02|03|05|05|05|03|02|01|01|\n",
      "01|01|02|03|05|08|05|03|02|01|01|\n",
      "01|01|02|03|05|05|05|03|02|01|01|\n",
      "01|01|02|03|03|03|03|03|02|01|01|\n",
      "01|01|02|02|02|02|02|02|02|01|01|\n",
      "01|01|01|01|01|01|01|01|01|01|01|\n",
      "01|01|01|01|01|01|01|01|01|01|01|\n"
     ]
    }
   ],
   "source": [
    "size = 9\n",
    "\n",
    "def l3q5(size):\n",
    "    bound = size//2\n",
    "    median = bound+1\n",
    "    for i in crange(-bound, bound):\n",
    "        for j in crange(-bound, bound):\n",
    "            ax = abs(i)\n",
    "            ay = abs(j)\n",
    "            btprint(fibo1(median-ay) if ax<ay else fibo1(median-ax))\n",
    "        print()\n",
    "        \n",
    "l3q5(11)"
   ]
  },
  {
   "cell_type": "markdown",
   "metadata": {},
   "source": [
    "# L3Q6 "
   ]
  },
  {
   "cell_type": "code",
   "execution_count": 112,
   "metadata": {},
   "outputs": [
    {
     "name": "stdout",
     "output_type": "stream",
     "text": [
      "01|01|01|01|01|01|01|01|01|01|01|01|01|\n",
      "01|__|__|__|__|__|__|__|__|__|__|__|01|\n",
      "01|__|03|03|03|03|03|03|03|03|03|__|01|\n",
      "01|__|03|__|__|__|__|__|__|__|03|__|01|\n",
      "01|__|03|__|05|05|05|05|05|__|03|__|01|\n",
      "01|__|03|__|05|__|__|__|05|__|03|__|01|\n",
      "01|__|03|__|05|__|07|__|05|__|03|__|01|\n",
      "01|__|03|__|05|__|__|__|05|__|03|__|01|\n",
      "01|__|03|__|05|05|05|05|05|__|03|__|01|\n",
      "01|__|03|__|__|__|__|__|__|__|03|__|01|\n",
      "01|__|03|03|03|03|03|03|03|03|03|__|01|\n",
      "01|__|__|__|__|__|__|__|__|__|__|__|01|\n",
      "01|01|01|01|01|01|01|01|01|01|01|01|01|\n"
     ]
    }
   ],
   "source": [
    "size = 9\n",
    "\n",
    "def l3q6(size):\n",
    "    bound = size//2\n",
    "    median = bound+1\n",
    "    for i in crange(-bound, bound):\n",
    "        for j in crange(-bound, bound):\n",
    "            ax = abs(i)\n",
    "            ay = abs(j)\n",
    "            if ax<ay:\n",
    "                btprint(median-ay if ay%2==0 else '_')\n",
    "            else:\n",
    "                btprint(median-ax if ax%2==0 else '_')\n",
    "        print()\n",
    "        \n",
    "l3q6(13)"
   ]
  },
  {
   "cell_type": "markdown",
   "metadata": {},
   "source": [
    "# L3Q7 "
   ]
  },
  {
   "cell_type": "code",
   "execution_count": 113,
   "metadata": {},
   "outputs": [
    {
     "name": "stdout",
     "output_type": "stream",
     "text": [
      "01|01|01|01|01|01|01|01|01|01|01|01|01|\n",
      "01|__|__|__|__|__|__|__|__|__|__|__|01|\n",
      "01|__|01|01|01|01|01|01|01|01|01|__|01|\n",
      "01|__|01|__|__|__|__|__|__|__|01|__|01|\n",
      "01|__|01|__|02|02|02|02|02|__|01|__|01|\n",
      "01|__|01|__|02|__|__|__|02|__|01|__|01|\n",
      "01|__|01|__|02|__|05|__|02|__|01|__|01|\n",
      "01|__|01|__|02|__|__|__|02|__|01|__|01|\n",
      "01|__|01|__|02|02|02|02|02|__|01|__|01|\n",
      "01|__|01|__|__|__|__|__|__|__|01|__|01|\n",
      "01|__|01|01|01|01|01|01|01|01|01|__|01|\n",
      "01|__|__|__|__|__|__|__|__|__|__|__|01|\n",
      "01|01|01|01|01|01|01|01|01|01|01|01|01|\n"
     ]
    }
   ],
   "source": [
    "size = 9\n",
    "\n",
    "def l3q7(size):\n",
    "    bound = size//2\n",
    "    median = bound+1\n",
    "    for i in crange(-bound, bound):\n",
    "        for j in crange(-bound, bound):\n",
    "            ax = abs(i)\n",
    "            ay = abs(j)\n",
    "            if ax<ay:\n",
    "                param = 1 if ay==1 else (median-ay)-2\n",
    "                btprint(fibo1(param) if ay%2==0 else '_')\n",
    "            else:\n",
    "                param = 1 if ax==1 else (median-ax)-2\n",
    "                btprint(fibo1(param) if ax%2==0 else '_')\n",
    "        print()\n",
    "        \n",
    "l3q7(13)"
   ]
  },
  {
   "cell_type": "markdown",
   "metadata": {},
   "source": [
    "# Q8 "
   ]
  },
  {
   "cell_type": "code",
   "execution_count": 114,
   "metadata": {},
   "outputs": [
    {
     "name": "stdout",
     "output_type": "stream",
     "text": [
      "01|01|01|01|02|03|05|03|02|01|01|01|01|\n",
      "01|_B|_B|_B|_B|_B|_B|_B|_B|_B|_B|_B|01|\n",
      "01|_B|01|01|02|03|05|03|02|01|01|_B|01|\n",
      "01|_B|01|_C|_C|_C|_C|_C|_C|_C|01|_B|01|\n",
      "01|_B|01|_C|02|03|05|03|02|_C|01|_B|01|\n",
      "01|_B|01|_C|02|_D|_D|_D|02|_C|01|_B|01|\n",
      "01|_B|01|_C|02|_D|05|_D|02|_C|01|_B|01|\n",
      "01|_B|01|_C|02|_D|_D|_D|02|_C|01|_B|01|\n",
      "01|_B|01|_C|02|03|05|03|02|_C|01|_B|01|\n",
      "01|_B|01|_C|_C|_C|_C|_C|_C|_C|01|_B|01|\n",
      "01|_B|01|01|02|03|05|03|02|01|01|_B|01|\n",
      "01|_B|_B|_B|_B|_B|_B|_B|_B|_B|_B|_B|01|\n",
      "01|01|01|01|02|03|05|03|02|01|01|01|01|\n"
     ]
    }
   ],
   "source": [
    "size = 9\n",
    "\n",
    "def l3q8(size):\n",
    "    bound = size//2\n",
    "    median = bound+1\n",
    "    for i in crange(-bound, bound):\n",
    "        for j in crange(-bound, bound):\n",
    "            ax = abs(i)\n",
    "            ay = abs(j)\n",
    "            if ax<ay:\n",
    "                param = 1 if ay==1 else (median-ay)-2\n",
    "                btprint(fibo1(param) if ay%2==0 else chr(62+(bound-(ay//2))))\n",
    "            else:\n",
    "                param = 1 if ax==1 else (median-ay)-2\n",
    "                btprint(fibo1(param) if ax%2==0 else chr(62+(bound-(ax//2))))\n",
    "        print()\n",
    "        \n",
    "l3q8(13)"
   ]
  },
  {
   "cell_type": "code",
   "execution_count": 79,
   "metadata": {},
   "outputs": [
    {
     "data": {
      "text/plain": [
       "66"
      ]
     },
     "execution_count": 79,
     "metadata": {},
     "output_type": "execute_result"
    }
   ],
   "source": [
    "ord('B')"
   ]
  },
  {
   "cell_type": "code",
   "execution_count": null,
   "metadata": {},
   "outputs": [],
   "source": []
  }
 ],
 "metadata": {
  "kernelspec": {
   "display_name": "Python 3",
   "language": "python",
   "name": "python3"
  },
  "language_info": {
   "codemirror_mode": {
    "name": "ipython",
    "version": 3
   },
   "file_extension": ".py",
   "mimetype": "text/x-python",
   "name": "python",
   "nbconvert_exporter": "python",
   "pygments_lexer": "ipython3",
   "version": "3.6.6"
  }
 },
 "nbformat": 4,
 "nbformat_minor": 2
}
