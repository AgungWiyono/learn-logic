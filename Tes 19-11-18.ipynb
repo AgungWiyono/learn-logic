{
 "cells": [
  {
   "cell_type": "code",
   "execution_count": 7,
   "metadata": {},
   "outputs": [],
   "source": [
    "def crange(x, y=None, j=1):\n",
    "    if not y:\n",
    "        return range(1,x+1)\n",
    "    if y:\n",
    "        return (x, y+1, j)\n",
    "    \n",
    "def twoDigit(x):\n",
    "    x = str(x)\n",
    "    if len(x)<2:\n",
    "        return '_'+x\n",
    "    return x\n",
    "\n",
    "def bprint(x):\n",
    "    print('{}|'.format(twoDigit(x)), end='')"
   ]
  },
  {
   "cell_type": "markdown",
   "metadata": {},
   "source": [
    "# Logic 3 "
   ]
  },
  {
   "cell_type": "markdown",
   "metadata": {},
   "source": [
    "## Q1"
   ]
  },
  {
   "cell_type": "code",
   "execution_count": 9,
   "metadata": {},
   "outputs": [
    {
     "name": "stdout",
     "output_type": "stream",
     "text": [
      "_1|_1|_2|_3|_5|_8|13|21|34|"
     ]
    }
   ],
   "source": [
    "def fibo(x):\n",
    "    if x <=2:\n",
    "        return 1\n",
    "    else:\n",
    "        return fibo1(x-1) + fibo1(x-2)\n",
    "\n",
    "size = 9\n",
    "for i in crange(size):\n",
    "    bprint(fibo1(i))"
   ]
  },
  {
   "cell_type": "markdown",
   "metadata": {},
   "source": [
    "## Q2"
   ]
  },
  {
   "cell_type": "code",
   "execution_count": 10,
   "metadata": {},
   "outputs": [
    {
     "name": "stdout",
     "output_type": "stream",
     "text": [
      "_1|_1|_1|_3|_5|_9|17|31|57|"
     ]
    }
   ],
   "source": [
    "def fibo2(x):\n",
    "    if x <=3:\n",
    "        return 1\n",
    "    else:\n",
    "        return fibo2(x-1) + fibo2(x-2) + fibo2(x-3)\n",
    "\n",
    "size = 9\n",
    "\n",
    "for i in crange(size):\n",
    "    bprint(fibo2(i))"
   ]
  },
  {
   "cell_type": "markdown",
   "metadata": {},
   "source": [
    "## Q3"
   ]
  },
  {
   "cell_type": "code",
   "execution_count": 11,
   "metadata": {},
   "outputs": [
    {
     "name": "stdout",
     "output_type": "stream",
     "text": [
      "FPB dari 6 dan 9 adalah 3\n",
      "KPK dari 6 dan 9 adalah 18\n"
     ]
    }
   ],
   "source": [
    "def gcd(x,y):\n",
    "    if y==0:\n",
    "        return x\n",
    "    elif y==1:\n",
    "        return 1\n",
    "    else:\n",
    "        return gcd(y, x%y)\n",
    "    \n",
    "def lcm(x,y):\n",
    "    return x*y//gcd(x,y)\n",
    "    \n",
    "x = 6\n",
    "y = 9\n",
    "\n",
    "print('FPB dari {} dan {} adalah {}'.format(x,y, gcd(x,y)))\n",
    "print('KPK dari {} dan {} adalah {}'.format(x,y, lcm(x,y)))"
   ]
  },
  {
   "cell_type": "markdown",
   "metadata": {},
   "source": [
    "## Q4"
   ]
  },
  {
   "cell_type": "code",
   "execution_count": 19,
   "metadata": {},
   "outputs": [
    {
     "name": "stdout",
     "output_type": "stream",
     "text": [
      "_1|_A|_A|_A|_A|_A|_A|_A|16|\n",
      "_D|_3|_A|_A|_A|_A|_A|14|_B|\n",
      "_D|_D|_5|_A|_A|_A|12|_B|_B|\n",
      "_D|_D|_D|_7|_A|10|_B|_B|_B|\n",
      "_D|_D|_D|_D|_9|_B|_B|_B|_B|\n",
      "_D|_D|_D|_6|_C|11|_B|_B|_B|\n",
      "_D|_D|_4|_C|_C|_C|13|_B|_B|\n",
      "_D|_2|_C|_C|_C|_C|_C|15|_B|\n",
      "_0|_C|_C|_C|_C|_C|_C|_C|17|\n"
     ]
    }
   ],
   "source": [
    "size = 9\n",
    "\n",
    "for i in crange(size):\n",
    "    for j in crange(size):\n",
    "        if i==j:\n",
    "            bprint(i*2-1)\n",
    "        elif j==size-(i-1):\n",
    "            bprint(j*2-2)\n",
    "        elif i<j and j<size-(i-1):\n",
    "            bprint('A')\n",
    "        elif i<j and j>size-(i-1):\n",
    "            bprint('B')\n",
    "        elif i>j and j>size-(i-1):\n",
    "            bprint('C')\n",
    "        else:\n",
    "            bprint('D')\n",
    "    print()"
   ]
  },
  {
   "cell_type": "markdown",
   "metadata": {},
   "source": [
    "## Q5"
   ]
  },
  {
   "cell_type": "code",
   "execution_count": 34,
   "metadata": {},
   "outputs": [
    {
     "name": "stdout",
     "output_type": "stream",
     "text": [
      "_1|_1|_1|_1|_1|_1|_1|_1|_1|\n",
      "_1|_1|_1|_1|_1|_1|_1|_1|_1|\n",
      "_1|_1|_2|_2|_2|_2|_2|_1|_1|\n",
      "_1|_1|_2|_3|_3|_3|_2|_1|_1|\n",
      "_1|_1|_2|_3|_5|_3|_2|_1|_1|\n",
      "_1|_1|_2|_3|_3|_3|_2|_1|_1|\n",
      "_1|_1|_2|_2|_2|_2|_2|_1|_1|\n",
      "_1|_1|_1|_1|_1|_1|_1|_1|_1|\n",
      "_1|_1|_1|_1|_1|_1|_1|_1|_1|\n"
     ]
    }
   ],
   "source": [
    "size = 9\n",
    "\n",
    "bound = size//2\n",
    "median = bound + 1\n",
    "\n",
    "for i in range(-bound, bound+1):\n",
    "    for j in range(-bound, bound+1):\n",
    "        ai, aj = abs(i), abs(j)\n",
    "        if ai<aj:\n",
    "            bprint(fibo(bound-(aj-1)))\n",
    "        else:\n",
    "            bprint(fibo(bound-(ai-1)))\n",
    "    print()"
   ]
  },
  {
   "cell_type": "markdown",
   "metadata": {},
   "source": [
    "## Q6"
   ]
  },
  {
   "cell_type": "code",
   "execution_count": 46,
   "metadata": {},
   "outputs": [
    {
     "name": "stdout",
     "output_type": "stream",
     "text": [
      "_1|_1|_1|_1|_1|_1|_1|_1|_1|\n",
      "_1|__|__|__|__|__|__|__|_1|\n",
      "_1|__|_3|_3|_3|_3|_3|__|_1|\n",
      "_1|__|_3|__|__|__|_3|__|_1|\n",
      "_1|__|_3|__|_5|__|_3|__|_1|\n",
      "_1|__|_3|__|__|__|_3|__|_1|\n",
      "_1|__|_3|_3|_3|_3|_3|__|_1|\n",
      "_1|__|__|__|__|__|__|__|_1|\n",
      "_1|_1|_1|_1|_1|_1|_1|_1|_1|\n"
     ]
    }
   ],
   "source": [
    "size = 9\n",
    "\n",
    "bound = size//2\n",
    "median = bound+1\n",
    "\n",
    "\n",
    "\n",
    "def is_even(x):\n",
    "    return x%2==0\n",
    "\n",
    "for i in range(-bound, bound+1):\n",
    "    for j in range(-bound, bound+1):\n",
    "        ai, aj = abs(i), abs(j)\n",
    "        if ai<aj:\n",
    "            bprint(median-aj if is_even(aj) else '_')\n",
    "        else:\n",
    "            bprint(median-ai if is_even(ai) else '_')\n",
    "    print()"
   ]
  },
  {
   "cell_type": "markdown",
   "metadata": {},
   "source": [
    "## Q7"
   ]
  },
  {
   "cell_type": "code",
   "execution_count": 73,
   "metadata": {},
   "outputs": [
    {
     "name": "stdout",
     "output_type": "stream",
     "text": [
      "_1|_1|_1|_1|_1|_1|_1|_1|_1|\n",
      "_1|_A|_A|_A|_A|_A|_A|_A|_1|\n",
      "_1|_A|_1|_1|_1|_1|_1|_A|_1|\n",
      "_1|_A|_1|_B|_B|_B|_1|_A|_1|\n",
      "_1|_A|_1|_B|_2|_B|_1|_A|_1|\n",
      "_1|_A|_1|_B|_B|_B|_1|_A|_1|\n",
      "_1|_A|_1|_1|_1|_1|_1|_A|_1|\n",
      "_1|_A|_A|_A|_A|_A|_A|_A|_1|\n",
      "_1|_1|_1|_1|_1|_1|_1|_1|_1|\n"
     ]
    }
   ],
   "source": [
    "size = 9\n",
    "\n",
    "bound = size//2\n",
    "median = bound+1\n",
    "\n",
    "def odd(x):\n",
    "    if x==1:\n",
    "        return 1\n",
    "    else:\n",
    "        return x//2\n",
    "\n",
    "for i in range(-bound, bound+1):\n",
    "    for j in range(-bound, bound+1):\n",
    "        ai, aj = abs(i), abs(j)\n",
    "        if ai<aj:\n",
    "            bprint(odd(median-aj) if aj%2==0 else chr(64+odd(median-aj)))\n",
    "        else:\n",
    "            bprint(odd(median-ai) if ai%2==0 else chr(64+odd(median-ai)))\n",
    "    print()"
   ]
  },
  {
   "cell_type": "markdown",
   "metadata": {},
   "source": [
    "## Q7"
   ]
  },
  {
   "cell_type": "code",
   "execution_count": 75,
   "metadata": {},
   "outputs": [
    {
     "name": "stdout",
     "output_type": "stream",
     "text": [
      "_1|_1|_1|_1|_1|_1|_1|_1|_1|\n",
      "_1|__|__|__|__|__|__|__|_1|\n",
      "_1|__|_1|_1|_1|_1|_1|__|_1|\n",
      "_1|__|_1|__|__|__|_1|__|_1|\n",
      "_1|__|_1|__|_2|__|_1|__|_1|\n",
      "_1|__|_1|__|__|__|_1|__|_1|\n",
      "_1|__|_1|_1|_1|_1|_1|__|_1|\n",
      "_1|__|__|__|__|__|__|__|_1|\n",
      "_1|_1|_1|_1|_1|_1|_1|_1|_1|\n"
     ]
    }
   ],
   "source": [
    "size = 9\n",
    "\n",
    "bound = size//2\n",
    "median = bound+1\n",
    "\n",
    "\n",
    "\n",
    "for i in range(-bound, bound+1):\n",
    "    for j in range(-bound, bound+1):\n",
    "        ai, aj = abs(i), abs(j)\n",
    "        if ai<aj:\n",
    "            bprint(odd(median-aj) if aj%2==0 else '_')\n",
    "        else:\n",
    "            bprint(odd(median-ai) if ai%2==0 else '_')\n",
    "    print()"
   ]
  },
  {
   "cell_type": "markdown",
   "metadata": {},
   "source": [
    "# LOGIC 4"
   ]
  },
  {
   "cell_type": "markdown",
   "metadata": {},
   "source": [
    "## Q1"
   ]
  },
  {
   "cell_type": "code",
   "execution_count": 95,
   "metadata": {},
   "outputs": [
    {
     "name": "stdout",
     "output_type": "stream",
     "text": [
      "['__', '__', '__', '__', '_1', '__', '__', '__', '__']\n",
      "['__', '__', '__', '_1', '_2', '_3', '__', '__', '__']\n",
      "['__', '__', '_1', '_2', '_3', '_4', '_5', '__', '__']\n",
      "['__', '_1', '_2', '_3', '_4', '_5', '_6', '_7', '__']\n",
      "['_1', '_2', '_3', '_4', '_5', '_6', '_7', '_8', '_9']\n"
     ]
    }
   ],
   "source": [
    "size = 9\n",
    "\n",
    "median = bound+1\n",
    "\n",
    "def odd(x):\n",
    "    if x==1:\n",
    "        return 1\n",
    "    else:\n",
    "        return x*2-1\n",
    "\n",
    "result = []\n",
    "\n",
    "for i in crange(median):\n",
    "    line = []\n",
    "    for x in crange(median-i):\n",
    "        line.append(twoDigit('_'))\n",
    "    for y in crange(odd(i)):\n",
    "        line.append(twoDigit(y))\n",
    "    for x in crange(median-i):\n",
    "        line.append(twoDigit('_'))\n",
    "    result.append(line)\n",
    "\n",
    "for i in result:\n",
    "    print(i)"
   ]
  },
  {
   "cell_type": "markdown",
   "metadata": {},
   "source": [
    "## Q2"
   ]
  },
  {
   "cell_type": "code",
   "execution_count": 113,
   "metadata": {},
   "outputs": [
    {
     "name": "stdout",
     "output_type": "stream",
     "text": [
      "['_1', '_2', '_3', '_4', '_5', '_6', '_7', '_8', '_9']\n",
      "['__', '_1', '_2', '_3', '_4', '_5', '_6', '_7', '__']\n",
      "['__', '__', '_1', '_2', '_3', '_4', '_5', '__', '__']\n",
      "['__', '__', '__', '_1', '_2', '_3', '__', '__', '__']\n",
      "['__', '__', '__', '__', '_1', '__', '__', '__', '__']\n"
     ]
    }
   ],
   "source": [
    "size = 9\n",
    "\n",
    "\n",
    "median = size//2+1\n",
    "\n",
    "result = []\n",
    "\n",
    "for i in crange(median):\n",
    "    line = []\n",
    "    for x in crange(median-(median-(i-1))):\n",
    "        line.append(twoDigit('_'))\n",
    "    for y in crange(odd(median-i+1)):\n",
    "        line.append(twoDigit(y))\n",
    "    for x in crange(median-(median-(i-1))):\n",
    "        line.append(twoDigit('_'))\n",
    "    result.append(line)\n",
    "    \n",
    "for i in result:\n",
    "    print(i)"
   ]
  },
  {
   "cell_type": "markdown",
   "metadata": {},
   "source": [
    "## Q3"
   ]
  },
  {
   "cell_type": "code",
   "execution_count": 125,
   "metadata": {},
   "outputs": [
    {
     "name": "stdout",
     "output_type": "stream",
     "text": [
      "['__', '__', '__', '__', '_1', '__', '__', '__', '__']\n",
      "['__', '__', '__', '_1', '_2', '_3', '__', '__', '__']\n",
      "['__', '__', '_1', '_2', '_3', '_4', '_5', '__', '__']\n",
      "['__', '_1', '_2', '_3', '_4', '_5', '_6', '_7', '__']\n",
      "['_1', '_2', '_3', '_4', '_5', '_6', '_7', '_8', '_9']\n",
      "['__', '_1', '_2', '_3', '_4', '_5', '_6', '_7', '__']\n",
      "['__', '__', '_1', '_2', '_3', '_4', '_5', '__', '__']\n",
      "['__', '__', '__', '_1', '_2', '_3', '__', '__', '__']\n",
      "['__', '__', '__', '__', '_1', '__', '__', '__', '__']\n"
     ]
    }
   ],
   "source": [
    "size = 9\n",
    "\n",
    "bound = size//2\n",
    "median = bound+1\n",
    "\n",
    "def rev(x):\n",
    "    return median-x\n",
    "\n",
    "\n",
    "result = []\n",
    "for i in range(-bound, bound+1):\n",
    "    ai = rev(abs(i))\n",
    "    line = []\n",
    "    for x in crange(median-ai):\n",
    "        line.append(twoDigit('_'))\n",
    "    for y in crange(odd(ai)):\n",
    "        line.append(twoDigit(y))\n",
    "    for x in crange(median-ai):\n",
    "        line.append(twoDigit('_'))\n",
    "    result.append(line)\n",
    "    \n",
    "for i in result:\n",
    "    print(i)\n"
   ]
  },
  {
   "cell_type": "code",
   "execution_count": 154,
   "metadata": {},
   "outputs": [
    {
     "name": "stdout",
     "output_type": "stream",
     "text": [
      "__|__|__|__|_9|__|__|__|__|\n",
      "__|__|__|_7|_9|_7|__|__|__|\n",
      "__|__|_5|_7|_9|_7|_5|__|__|\n",
      "__|_3|_5|_7|_9|_7|_5|_3|__|\n",
      "_1|_3|_5|_7|_9|_7|_5|_3|_1|\n"
     ]
    }
   ],
   "source": [
    "size = 9\n",
    "\n",
    "bound = size//2\n",
    "median = bound+1\n",
    "\n",
    "def rev(x):\n",
    "    return median-x\n",
    "\n",
    "for i in crange(median):\n",
    "    for j in range(-bound, bound+1):\n",
    "        aj = abs(j)\n",
    "        bprint('_' if i<=median-rev(aj) else odd(median-(aj)))\n",
    "    print()"
   ]
  },
  {
   "cell_type": "code",
   "execution_count": null,
   "metadata": {},
   "outputs": [],
   "source": []
  }
 ],
 "metadata": {
  "kernelspec": {
   "display_name": "Python 3",
   "language": "python",
   "name": "python3"
  },
  "language_info": {
   "codemirror_mode": {
    "name": "ipython",
    "version": 3
   },
   "file_extension": ".py",
   "mimetype": "text/x-python",
   "name": "python",
   "nbconvert_exporter": "python",
   "pygments_lexer": "ipython3",
   "version": "3.6.6"
  }
 },
 "nbformat": 4,
 "nbformat_minor": 2
}
