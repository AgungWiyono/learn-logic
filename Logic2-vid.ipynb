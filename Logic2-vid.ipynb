{
 "cells": [
  {
   "cell_type": "markdown",
   "metadata": {},
   "source": [
    "# Logic 2 - Video Based"
   ]
  },
  {
   "cell_type": "markdown",
   "metadata": {},
   "source": [
    "#### This script is the script that I get from the tutorial video of logic 2.\n",
    "#### The main use of this script is to compare between my understanding of question with what mentor wants.\n",
    "#### And to compare the algorithm's time."
   ]
  },
  {
   "cell_type": "markdown",
   "metadata": {},
   "source": [
    "## Helper Fucntion"
   ]
  },
  {
   "cell_type": "code",
   "execution_count": 9,
   "metadata": {},
   "outputs": [],
   "source": [
    "import math\n",
    "\n",
    "\n",
    "def crange(size):\n",
    "    return range(1,size+1)\n",
    "\n",
    "def twodigit(number):\n",
    "    if len(str(number))<2:\n",
    "        return '0'+str(number)\n",
    "    else:\n",
    "        return number\n"
   ]
  },
  {
   "cell_type": "code",
   "execution_count": 21,
   "metadata": {},
   "outputs": [
    {
     "name": "stdout",
     "output_type": "stream",
     "text": [
      "________________16\n",
      "______________14__\n",
      "____________12____\n",
      "__________10______\n",
      "________08________\n",
      "______06__________\n",
      "____04____________\n",
      "__02______________\n",
      "00________________\n",
      "CPU times: user 15.8 ms, sys: 0 ns, total: 15.8 ms\n",
      "Wall time: 21.6 ms\n"
     ]
    }
   ],
   "source": [
    "%%time\n",
    "# Question 2\n",
    "size = 9\n",
    "for i in crange(size):\n",
    "    for j in crange(size):\n",
    "        if i==size-(j-1):\n",
    "            n = j*2-2\n",
    "            print(twodigit(n),end='')\n",
    "        else:\n",
    "            print('__', end='')\n",
    "    print()"
   ]
  },
  {
   "cell_type": "markdown",
   "metadata": {},
   "source": [
    "## Question 3"
   ]
  },
  {
   "cell_type": "code",
   "execution_count": 24,
   "metadata": {},
   "outputs": [
    {
     "name": "stdout",
     "output_type": "stream",
     "text": [
      "01|__|__|__|__|__|__|__|16|\n",
      "__|03|__|__|__|__|__|14|__|\n",
      "__|__|05|__|__|__|12|__|__|\n",
      "__|__|__|07|__|10|__|__|__|\n",
      "__|__|__|__|09|__|__|__|__|\n",
      "__|__|__|06|__|11|__|__|__|\n",
      "__|__|04|__|__|__|13|__|__|\n",
      "__|02|__|__|__|__|__|15|__|\n",
      "00|__|__|__|__|__|__|__|17|\n",
      "CPU times: user 17.1 ms, sys: 0 ns, total: 17.1 ms\n",
      "Wall time: 28.4 ms\n"
     ]
    }
   ],
   "source": [
    "%%time\n",
    "size = 9\n",
    "for i in crange(size):\n",
    "    for j in crange(size):\n",
    "        if i==j:\n",
    "            n = i*2-1\n",
    "            print('{}|'.format(twodigit(n)), end='')\n",
    "        elif i==size-(j-1):\n",
    "            n = size*2-(i*2)\n",
    "            print('{}|'.format(twodigit(n)) , end='')\n",
    "        else:\n",
    "            print('__|', end='')\n",
    "    print() "
   ]
  },
  {
   "cell_type": "code",
   "execution_count": null,
   "metadata": {},
   "outputs": [],
   "source": []
  }
 ],
 "metadata": {
  "kernelspec": {
   "display_name": "Python 3",
   "language": "python",
   "name": "python3"
  },
  "language_info": {
   "codemirror_mode": {
    "name": "ipython",
    "version": 3
   },
   "file_extension": ".py",
   "mimetype": "text/x-python",
   "name": "python",
   "nbconvert_exporter": "python",
   "pygments_lexer": "ipython3",
   "version": "3.6.5"
  }
 },
 "nbformat": 4,
 "nbformat_minor": 2
}
