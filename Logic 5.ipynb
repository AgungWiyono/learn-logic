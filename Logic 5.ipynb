{
 "cells": [
  {
   "cell_type": "code",
   "execution_count": 2,
   "metadata": {},
   "outputs": [],
   "source": [
    "def bprint(x):\n",
    "    print('{}'.format(x), end='')\n",
    "    \n",
    "def twoDigit(x):\n",
    "    x = str(x)\n",
    "    if len(x)<2:\n",
    "        return '_'+x\n",
    "    return x\n",
    "    \n",
    "def btprint(x):\n",
    "    bprint('{}|'.format(twoDigit(x)))\n",
    "    \n",
    "def crange(x):\n",
    "    return range(1, x+1)\n",
    "\n",
    "def adder(x):\n",
    "    if x==1:\n",
    "        return 1\n",
    "    elif x<1:\n",
    "        return 0\n",
    "    else:\n",
    "        return x + adder(x-1)\n",
    "\n",
    "def odder(x):\n",
    "    return x*2-1\n",
    "\n",
    "def oddsizer(x):\n",
    "    if x==1:\n",
    "        return 1\n",
    "    else:\n",
    "        return odder(x) + oddsizer(x-1)"
   ]
  },
  {
   "cell_type": "code",
   "execution_count": null,
   "metadata": {},
   "outputs": [],
   "source": []
  },
  {
   "cell_type": "markdown",
   "metadata": {},
   "source": [
    "## Q1"
   ]
  },
  {
   "cell_type": "code",
   "execution_count": 47,
   "metadata": {},
   "outputs": [
    {
     "name": "stdout",
     "output_type": "stream",
     "text": [
      "*|\n",
      "_|*|*|\n",
      "_|*|*|\n",
      "_|_|_|*|*|*|\n",
      "_|_|_|*|*|*|\n",
      "_|_|_|*|*|*|\n",
      "_|_|_|_|_|_|*|*|*|*|\n",
      "_|_|_|_|_|_|*|*|*|*|\n",
      "_|_|_|_|_|_|*|*|*|*|\n",
      "_|_|_|_|_|_|*|*|*|*|\n",
      "_|_|_|_|_|_|_|_|_|_|*|*|*|*|*|\n",
      "_|_|_|_|_|_|_|_|_|_|*|*|*|*|*|\n",
      "_|_|_|_|_|_|_|_|_|_|*|*|*|*|*|\n",
      "_|_|_|_|_|_|_|_|_|_|*|*|*|*|*|\n",
      "_|_|_|_|_|_|_|_|_|_|*|*|*|*|*|\n"
     ]
    }
   ],
   "source": [
    "block = 5\n",
    "\n",
    "for x in crange(block):\n",
    "    for y in crange(x):\n",
    "        bprint('_|'*adder(x-1))\n",
    "        bprint('*|'*x)\n",
    "        print()"
   ]
  },
  {
   "cell_type": "code",
   "execution_count": 113,
   "metadata": {},
   "outputs": [],
   "source": []
  },
  {
   "cell_type": "markdown",
   "metadata": {},
   "source": [
    "## Q2"
   ]
  },
  {
   "cell_type": "code",
   "execution_count": 46,
   "metadata": {},
   "outputs": [
    {
     "name": "stdout",
     "output_type": "stream",
     "text": [
      "_|_|_|_|_|_|_|_|_|*|\n",
      "_|_|_|_|_|_|_|*|*|\n",
      "_|_|_|_|_|_|_|*|*|\n",
      "_|_|_|_|*|*|*|\n",
      "_|_|_|_|*|*|*|\n",
      "_|_|_|_|*|*|*|\n",
      "*|*|*|*|\n",
      "*|*|*|*|\n",
      "*|*|*|*|\n",
      "*|*|*|*|\n"
     ]
    }
   ],
   "source": [
    "block = 4\n",
    "\n",
    "size = adder(block)\n",
    "for x in crange(block):\n",
    "    for y in crange(x):\n",
    "        bprint('_|'*(size-adder(x)))\n",
    "        bprint('*|'*x)\n",
    "        print()"
   ]
  },
  {
   "cell_type": "markdown",
   "metadata": {},
   "source": [
    "## Q3"
   ]
  },
  {
   "cell_type": "code",
   "execution_count": 45,
   "metadata": {},
   "outputs": [
    {
     "name": "stdout",
     "output_type": "stream",
     "text": [
      "*|\n",
      "_|_|*|\n",
      "_|*|*|*|\n",
      "_|_|_|_|_|_|*|\n",
      "_|_|_|_|_|*|*|*|\n",
      "_|_|_|_|*|*|*|*|*|\n",
      "_|_|_|_|_|_|_|_|_|_|_|_|*|\n",
      "_|_|_|_|_|_|_|_|_|_|_|*|*|*|\n",
      "_|_|_|_|_|_|_|_|_|_|*|*|*|*|*|\n",
      "_|_|_|_|_|_|_|_|_|*|*|*|*|*|*|*|\n",
      "_|_|_|_|_|_|_|_|_|_|_|_|_|_|_|_|_|_|_|_|*|\n",
      "_|_|_|_|_|_|_|_|_|_|_|_|_|_|_|_|_|_|_|*|*|*|\n",
      "_|_|_|_|_|_|_|_|_|_|_|_|_|_|_|_|_|_|*|*|*|*|*|\n",
      "_|_|_|_|_|_|_|_|_|_|_|_|_|_|_|_|_|*|*|*|*|*|*|*|\n",
      "_|_|_|_|_|_|_|_|_|_|_|_|_|_|_|_|*|*|*|*|*|*|*|*|*|\n"
     ]
    }
   ],
   "source": [
    "block = 5\n",
    "\n",
    "for x in crange(block):\n",
    "    for y in range(x):\n",
    "        bprint('_|'*(adder(x-1)*2-y))\n",
    "        bprint('*|'*odder(y+1))\n",
    "        print()"
   ]
  },
  {
   "cell_type": "markdown",
   "metadata": {},
   "source": [
    "## Q4"
   ]
  },
  {
   "cell_type": "code",
   "execution_count": 143,
   "metadata": {},
   "outputs": [],
   "source": []
  },
  {
   "cell_type": "code",
   "execution_count": 3,
   "metadata": {},
   "outputs": [
    {
     "name": "stdout",
     "output_type": "stream",
     "text": [
      "________*\n",
      "______*\n",
      "_____***\n",
      "__*\n",
      "_***\n",
      "*****\n"
     ]
    }
   ],
   "source": [
    "block = 3\n",
    "size = oddsizer(3)\n",
    "\n",
    "for b in crange(block):\n",
    "    for x in crange(b):\n",
    "        bprint('_'*(size-oddsizer(b)+(b-x)))\n",
    "        bprint('*'*odder(x))\n",
    "        print()"
   ]
  },
  {
   "cell_type": "markdown",
   "metadata": {},
   "source": [
    "## Q5"
   ]
  },
  {
   "cell_type": "code",
   "execution_count": 51,
   "metadata": {},
   "outputs": [
    {
     "name": "stdout",
     "output_type": "stream",
     "text": [
      "*|\n",
      "_|*|*|*|\n",
      "_|_|*|\n",
      "_|_|_|_|*|*|*|*|*|\n",
      "_|_|_|_|_|*|*|*|\n",
      "_|_|_|_|_|_|*|\n",
      "_|_|_|_|_|_|_|_|_|*|*|*|*|*|*|*|\n",
      "_|_|_|_|_|_|_|_|_|_|*|*|*|*|*|\n",
      "_|_|_|_|_|_|_|_|_|_|_|*|*|*|\n",
      "_|_|_|_|_|_|_|_|_|_|_|_|*|\n"
     ]
    }
   ],
   "source": [
    "block = 4\n",
    "\n",
    "for x in crange(block):\n",
    "    for y in range(x):\n",
    "        bprint('_|'*(adder(x-1)*2+(y-(x-1))))\n",
    "        # bprint('_|'*(loop*2-y))\n",
    "        # bprint('*|'*odder(y+1))\n",
    "        bprint('*|'*odder(x-y))\n",
    "        print()"
   ]
  },
  {
   "cell_type": "markdown",
   "metadata": {},
   "source": [
    "## Q6"
   ]
  },
  {
   "cell_type": "code",
   "execution_count": 81,
   "metadata": {},
   "outputs": [
    {
     "name": "stdout",
     "output_type": "stream",
     "text": [
      "1|\n",
      "_|1|1|\n",
      "_|2|2|\n",
      "_|_|_|1|1|1|\n",
      "_|_|_|2|2|2|\n",
      "_|_|_|3|3|3|\n",
      "_|_|_|_|_|_|1|1|1|1|\n",
      "_|_|_|_|_|_|2|2|2|2|\n",
      "_|_|_|_|_|_|3|3|3|3|\n",
      "_|_|_|_|_|_|4|4|4|4|\n",
      "_|_|_|_|_|_|_|_|_|_|1|1|1|1|1|\n",
      "_|_|_|_|_|_|_|_|_|_|2|2|2|2|2|\n",
      "_|_|_|_|_|_|_|_|_|_|3|3|3|3|3|\n",
      "_|_|_|_|_|_|_|_|_|_|4|4|4|4|4|\n",
      "_|_|_|_|_|_|_|_|_|_|5|5|5|5|5|\n",
      "==================================================\n",
      "0|\n",
      "_|0|1|\n",
      "_|0|1|\n",
      "_|_|_|0|1|2|\n",
      "_|_|_|0|1|2|\n",
      "_|_|_|0|1|2|\n",
      "_|_|_|_|_|_|0|1|2|3|\n",
      "_|_|_|_|_|_|0|1|2|3|\n",
      "_|_|_|_|_|_|0|1|2|3|\n",
      "_|_|_|_|_|_|0|1|2|3|\n",
      "_|_|_|_|_|_|_|_|_|_|0|1|2|3|4|\n",
      "_|_|_|_|_|_|_|_|_|_|0|1|2|3|4|\n",
      "_|_|_|_|_|_|_|_|_|_|0|1|2|3|4|\n",
      "_|_|_|_|_|_|_|_|_|_|0|1|2|3|4|\n",
      "_|_|_|_|_|_|_|_|_|_|0|1|2|3|4|\n"
     ]
    }
   ],
   "source": [
    "block = 5\n",
    "\n",
    "for x in crange(block):\n",
    "    for y in crange(x):\n",
    "        bprint('_|'*adder(x-1))\n",
    "        for i in range(x):\n",
    "            # btprint(i+1)\n",
    "            btprint(y)\n",
    "        print()\n",
    "print('='*50)\n",
    "for x in crange(block):\n",
    "    for y in crange(x):\n",
    "        bprint('_|'*adder(x-1))\n",
    "        for i in range(x):\n",
    "            btprint(i)\n",
    "            # btprint(y)\n",
    "        print()\n"
   ]
  },
  {
   "cell_type": "code",
   "execution_count": 94,
   "metadata": {},
   "outputs": [
    {
     "name": "stdout",
     "output_type": "stream",
     "text": [
      "_1|\n",
      "__|_1|_2|\n",
      "__|_3|_4|\n",
      "__|__|__|_1|_2|_3|\n",
      "__|__|__|_4|_5|_6|\n",
      "__|__|__|_7|_8|_9|\n",
      "__|__|__|__|__|__|_1|_2|_3|_4|\n",
      "__|__|__|__|__|__|_5|_6|_7|_8|\n",
      "__|__|__|__|__|__|_9|10|11|12|\n",
      "__|__|__|__|__|__|13|14|15|16|\n"
     ]
    }
   ],
   "source": [
    "block = 4\n",
    "for x in crange(block):\n",
    "    for y in crange(x):\n",
    "        bprint('__|'*adder(x-1))\n",
    "        for i in range(x):\n",
    "            btprint(x*(y-1)+(i+1))\n",
    "        print()"
   ]
  },
  {
   "cell_type": "markdown",
   "metadata": {},
   "source": [
    "## Q7"
   ]
  },
  {
   "cell_type": "code",
   "execution_count": 97,
   "metadata": {},
   "outputs": [
    {
     "name": "stdout",
     "output_type": "stream",
     "text": [
      "__|__|__|__|__|__|__|__|__|_1|\n",
      "__|__|__|__|__|__|__|_1|_2|\n",
      "__|__|__|__|__|__|__|_3|_4|\n",
      "__|__|__|__|_1|_2|_3|\n",
      "__|__|__|__|_4|_5|_6|\n",
      "__|__|__|__|_7|_8|_9|\n",
      "_1|_2|_3|_4|\n",
      "_5|_6|_7|_8|\n",
      "_9|10|11|12|\n",
      "13|14|15|16|\n"
     ]
    }
   ],
   "source": [
    "block = 4\n",
    "\n",
    "size = adder(block)\n",
    "for x in crange(block):\n",
    "    for y in crange(x):\n",
    "        bprint('__|'*(size-adder(x)))\n",
    "        for i in range(x):\n",
    "            btprint(x*(y-1)+(i+1))\n",
    "        print()"
   ]
  },
  {
   "cell_type": "markdown",
   "metadata": {},
   "source": [
    "## Q8"
   ]
  },
  {
   "cell_type": "code",
   "execution_count": 121,
   "metadata": {},
   "outputs": [
    {
     "name": "stdout",
     "output_type": "stream",
     "text": [
      "_|_|_|*|\n",
      "_|_|_|*|\n",
      "_|_|*|*|*|\n",
      "_|_|_|*|\n",
      "_|_|*|*|*|\n",
      "_|*|*|*|*|*|\n",
      "_|_|_|*|\n",
      "_|_|*|*|*|\n",
      "_|*|*|*|*|*|\n",
      "*|*|*|*|*|*|*|\n"
     ]
    }
   ],
   "source": [
    "block = 4\n",
    "\n",
    "for b in crange(block):\n",
    "    for x in crange(b):\n",
    "        for y in crange(block-x):\n",
    "            bprint('_|')\n",
    "        num_count = odder(block-(block-x))\n",
    "        for y in crange(num_count):\n",
    "            bprint('*|')\n",
    "        print()"
   ]
  },
  {
   "cell_type": "code",
   "execution_count": 126,
   "metadata": {},
   "outputs": [
    {
     "name": "stdout",
     "output_type": "stream",
     "text": [
      "__|__|__|_1|\n",
      "__|__|__|_2|\n",
      "__|__|_2|_2|_2|\n",
      "__|__|__|_3|\n",
      "__|__|_3|_3|_3|\n",
      "__|_3|_3|_3|_3|_3|\n",
      "__|__|__|_4|\n",
      "__|__|_4|_4|_4|\n",
      "__|_4|_4|_4|_4|_4|\n",
      "_4|_4|_4|_4|_4|_4|_4|\n",
      "================================================================================\n",
      "__|__|__|_1|\n",
      "__|__|__|_1|\n",
      "__|__|_2|_2|_2|\n",
      "__|__|__|_1|\n",
      "__|__|_2|_2|_2|\n",
      "__|_3|_3|_3|_3|_3|\n",
      "__|__|__|_1|\n",
      "__|__|_2|_2|_2|\n",
      "__|_3|_3|_3|_3|_3|\n",
      "_4|_4|_4|_4|_4|_4|_4|\n",
      "================================================================================\n"
     ]
    }
   ],
   "source": [
    "block = 4\n",
    "\n",
    "for b in crange(block):\n",
    "    for x in crange(b):\n",
    "        for y in crange(block-x):\n",
    "            bprint('__|')\n",
    "        num_count = odder(block-(block-x))\n",
    "        for y in crange(num_count):\n",
    "            btprint(b)\n",
    "        print()\n",
    "print('='*80)\n",
    "for b in crange(block):\n",
    "    for x in crange(b):\n",
    "        for y in crange(block-x):\n",
    "            bprint('__|')\n",
    "        num_count = odder(block-(block-x))\n",
    "        for y in crange(num_count):\n",
    "            btprint(x)\n",
    "        print()\n",
    "print('='*80)"
   ]
  },
  {
   "cell_type": "code",
   "execution_count": null,
   "metadata": {},
   "outputs": [],
   "source": []
  }
 ],
 "metadata": {
  "kernelspec": {
   "display_name": "Python 3",
   "language": "python",
   "name": "python3"
  },
  "language_info": {
   "codemirror_mode": {
    "name": "ipython",
    "version": 3
   },
   "file_extension": ".py",
   "mimetype": "text/x-python",
   "name": "python",
   "nbconvert_exporter": "python",
   "pygments_lexer": "ipython3",
   "version": "3.6.7"
  }
 },
 "nbformat": 4,
 "nbformat_minor": 2
}
