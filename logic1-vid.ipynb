{
 "cells": [
  {
   "cell_type": "code",
   "execution_count": 1,
   "metadata": {},
   "outputs": [],
   "source": [
    "# Miscellanous\n",
    "# My own range procedure\n",
    "import math\n",
    "import time\n",
    "\n",
    "def crange(a):\n",
    "    return range(1,a+1)"
   ]
  },
  {
   "cell_type": "code",
   "execution_count": 3,
   "metadata": {},
   "outputs": [
    {
     "name": "stdout",
     "output_type": "stream",
     "text": [
      "*        \n",
      " *       \n",
      "  *      \n",
      "   *     \n",
      "    *    \n",
      "     *   \n",
      "      *  \n",
      "       * \n",
      "        *\n",
      "0.04005074501037598\n"
     ]
    }
   ],
   "source": [
    "# Question 1\n",
    "start = time.time()\n",
    "\n",
    "size=9\n",
    "for i in range(size):\n",
    "    for j in range(size):\n",
    "        if i==j:\n",
    "            print('*', end='')\n",
    "        else:\n",
    "            print(' ', end='')\n",
    "    print()\n",
    "print(time.time()-start)"
   ]
  },
  {
   "cell_type": "code",
   "execution_count": 13,
   "metadata": {},
   "outputs": [
    {
     "name": "stdout",
     "output_type": "stream",
     "text": [
      "        *\n",
      "       * \n",
      "      *  \n",
      "     *   \n",
      "    *    \n",
      "   *     \n",
      "  *      \n",
      " *       \n",
      "*        \n"
     ]
    }
   ],
   "source": [
    "# Question 2\n",
    "size=9\n",
    "for i in range(size):\n",
    "    for j in range(size):\n",
    "        if i==(size-1)-(j):\n",
    "            print('*', end='')\n",
    "        else:\n",
    "            print(' ', end='')\n",
    "    print()"
   ]
  },
  {
   "cell_type": "code",
   "execution_count": 81,
   "metadata": {},
   "outputs": [
    {
     "name": "stdout",
     "output_type": "stream",
     "text": [
      "*_______*\n",
      "_*_____*_\n",
      "__*___*__\n",
      "___*_*___\n",
      "____*____\n",
      "___*_*___\n",
      "__*___*__\n",
      "_*_____*_\n",
      "*_______*\n"
     ]
    }
   ],
   "source": [
    "# Question 3\n",
    "size = 9\n",
    "for i in crange(size):\n",
    "    for j in crange(size):\n",
    "        if i==j or i==size-(j-1):\n",
    "            print('*', end='')\n",
    "        else:\n",
    "            print('_', end='')\n",
    "    print()"
   ]
  },
  {
   "cell_type": "code",
   "execution_count": 83,
   "metadata": {},
   "outputs": [
    {
     "name": "stdout",
     "output_type": "stream",
     "text": [
      "*___*___*\n",
      "_*__*__*_\n",
      "__*_*_*__\n",
      "___***___\n",
      "*********\n",
      "___***___\n",
      "__*_*_*__\n",
      "_*__*__*_\n",
      "*___*___*\n"
     ]
    }
   ],
   "source": [
    "# Question 4\n",
    "size = 9\n",
    "for i in crange(size):\n",
    "    for j in crange(size):\n",
    "        if i==j:\n",
    "            print('*', end='')\n",
    "        elif i==size-(j-1):\n",
    "            print('*', end='')\n",
    "        elif i==math.ceil(size/2):\n",
    "            print('*', end='')\n",
    "        elif j==math.ceil(size/2):\n",
    "            print('*', end='')\n",
    "        else:\n",
    "            print('_', end='')\n",
    "    print()"
   ]
  },
  {
   "cell_type": "code",
   "execution_count": 86,
   "metadata": {},
   "outputs": [
    {
     "name": "stdout",
     "output_type": "stream",
     "text": [
      "*________\n",
      "**_______\n",
      "***______\n",
      "****_____\n",
      "*****____\n",
      "******___\n",
      "*******__\n",
      "********_\n",
      "*********\n"
     ]
    }
   ],
   "source": [
    "# Question 5\n",
    "size = 9\n",
    "for i in crange(size):\n",
    "    for j in crange(size):\n",
    "        if j<=i:\n",
    "            print('*', end='')\n",
    "        else:\n",
    "            print('_',end='')\n",
    "    print()"
   ]
  },
  {
   "cell_type": "code",
   "execution_count": 7,
   "metadata": {},
   "outputs": [
    {
     "name": "stdout",
     "output_type": "stream",
     "text": [
      "________*\n",
      "_______**\n",
      "______***\n",
      "_____****\n",
      "____*****\n",
      "___******\n",
      "__*******\n",
      "_********\n",
      "*********\n"
     ]
    }
   ],
   "source": [
    "# Question 6\n",
    "size = 9\n",
    "for i in crange(size):\n",
    "    for j in crange(size):\n",
    "        if i>=size-(j-1):\n",
    "            print('*', end='')\n",
    "        else:\n",
    "            print('_',end='')\n",
    "    print()"
   ]
  },
  {
   "cell_type": "code",
   "execution_count": 102,
   "metadata": {},
   "outputs": [
    {
     "name": "stdout",
     "output_type": "stream",
     "text": [
      "*********\n",
      "_*******_\n",
      "__*****__\n",
      "___***___\n",
      "____*____\n",
      "___***___\n",
      "__*****__\n",
      "_*******_\n",
      "*********\n"
     ]
    }
   ],
   "source": [
    "# Question 7\n",
    "size = 9\n",
    "for i in crange(size):\n",
    "    for j in crange(size):\n",
    "        if i<=j and i<=size-(j-1):\n",
    "            print('*', end='')\n",
    "        elif i>=j and i>=size-(j-1):\n",
    "            print('*', end='')\n",
    "        else:\n",
    "            print('_', end='')\n",
    "    print()"
   ]
  },
  {
   "cell_type": "code",
   "execution_count": 104,
   "metadata": {},
   "outputs": [
    {
     "name": "stdout",
     "output_type": "stream",
     "text": [
      "*_______*\n",
      "**_____**\n",
      "***___***\n",
      "****_****\n",
      "*********\n",
      "****_****\n",
      "***___***\n",
      "**_____**\n",
      "*_______*\n"
     ]
    }
   ],
   "source": [
    "# Question 8\n",
    "size = 9\n",
    "for i in crange(size):\n",
    "    for j in crange(size):\n",
    "        if j<=i and j<=size-(i-1):\n",
    "            print('*', end='')\n",
    "        elif j>=i and j>=size-(i-1):\n",
    "            print('*', end='')\n",
    "        else:\n",
    "            print('_', end='')\n",
    "    print()"
   ]
  },
  {
   "cell_type": "code",
   "execution_count": null,
   "metadata": {},
   "outputs": [],
   "source": []
  }
 ],
 "metadata": {
  "kernelspec": {
   "display_name": "Python 3",
   "language": "python",
   "name": "python3"
  },
  "language_info": {
   "codemirror_mode": {
    "name": "ipython",
    "version": 3
   },
   "file_extension": ".py",
   "mimetype": "text/x-python",
   "name": "python",
   "nbconvert_exporter": "python",
   "pygments_lexer": "ipython3",
   "version": "3.6.5"
  }
 },
 "nbformat": 4,
 "nbformat_minor": 2
}
