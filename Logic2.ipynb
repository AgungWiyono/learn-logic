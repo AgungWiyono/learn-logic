{
 "cells": [
  {
   "cell_type": "markdown",
   "metadata": {},
   "source": [
    "# LOGIC 2"
   ]
  },
  {
   "cell_type": "markdown",
   "metadata": {},
   "source": [
    "## Helper Function"
   ]
  },
  {
   "cell_type": "code",
   "execution_count": 50,
   "metadata": {},
   "outputs": [],
   "source": [
    "import math\n",
    "import time\n",
    "\n",
    "\n",
    "def crange(size):\n",
    "    return range(1,size+1)\n",
    "\n",
    "def twodigit(param):\n",
    "    text = str(param)\n",
    "    if len(text)<2:\n",
    "        if text.isdigit():\n",
    "            return '0'+text\n",
    "        else:\n",
    "            return '_'+text\n",
    "    else:\n",
    "        return text\n",
    "    \n",
    "def printb(text):\n",
    "    print('{}|'.format(twodigit(text)), end='')\n"
   ]
  },
  {
   "cell_type": "code",
   "execution_count": 2,
   "metadata": {},
   "outputs": [
    {
     "name": "stdout",
     "output_type": "stream",
     "text": [
      "5\n",
      "number 5\n",
      "05\n"
     ]
    }
   ],
   "source": [
    "# For testing helper function only\n",
    "print(5)\n",
    "print('number', 5)\n",
    "print(twodigit(5))"
   ]
  },
  {
   "cell_type": "markdown",
   "metadata": {},
   "source": [
    "## Question 1"
   ]
  },
  {
   "cell_type": "code",
   "execution_count": 51,
   "metadata": {
    "scrolled": true
   },
   "outputs": [
    {
     "name": "stdout",
     "output_type": "stream",
     "text": [
      "01|__|__|__|__|__|__|__|__|\n",
      "__|03|__|__|__|__|__|__|__|\n",
      "__|__|05|__|__|__|__|__|__|\n",
      "__|__|__|07|__|__|__|__|__|\n",
      "__|__|__|__|09|__|__|__|__|\n",
      "__|__|__|__|__|11|__|__|__|\n",
      "__|__|__|__|__|__|13|__|__|\n",
      "__|__|__|__|__|__|__|15|__|\n",
      "__|__|__|__|__|__|__|__|17|\n"
     ]
    }
   ],
   "source": [
    "# Question 1\n",
    "size = 9\n",
    "for i in crange(size):\n",
    "    for j in crange(size):\n",
    "        if i==j:\n",
    "            printb(i*2-1)\n",
    "        else:\n",
    "            printb('_')\n",
    "    print()"
   ]
  },
  {
   "cell_type": "markdown",
   "metadata": {},
   "source": [
    "## Question 2"
   ]
  },
  {
   "cell_type": "code",
   "execution_count": 52,
   "metadata": {},
   "outputs": [
    {
     "name": "stdout",
     "output_type": "stream",
     "text": [
      "__|__|__|__|__|__|__|__|16|\n",
      "__|__|__|__|__|__|__|14|__|\n",
      "__|__|__|__|__|__|12|__|__|\n",
      "__|__|__|__|__|10|__|__|__|\n",
      "__|__|__|__|08|__|__|__|__|\n",
      "__|__|__|06|__|__|__|__|__|\n",
      "__|__|04|__|__|__|__|__|__|\n",
      "__|02|__|__|__|__|__|__|__|\n",
      "00|__|__|__|__|__|__|__|__|\n",
      "CPU times: user 8.94 ms, sys: 135 µs, total: 9.07 ms\n",
      "Wall time: 17.1 ms\n"
     ]
    }
   ],
   "source": [
    "%%time\n",
    "size = 9\n",
    "for i in crange(size):\n",
    "    for j in crange(size):\n",
    "        if i==size-(j-1):\n",
    "            printb(size*2-(2*i))\n",
    "        else:\n",
    "            printb('_')\n",
    "    print()\n"
   ]
  },
  {
   "cell_type": "markdown",
   "metadata": {},
   "source": [
    "## Question 3"
   ]
  },
  {
   "cell_type": "code",
   "execution_count": 53,
   "metadata": {},
   "outputs": [
    {
     "name": "stdout",
     "output_type": "stream",
     "text": [
      "01|__|__|__|__|__|__|__|16|\n",
      "__|03|__|__|__|__|__|14|__|\n",
      "__|__|05|__|__|__|12|__|__|\n",
      "__|__|__|07|__|10|__|__|__|\n",
      "__|__|__|__|09|__|__|__|__|\n",
      "__|__|__|06|__|11|__|__|__|\n",
      "__|__|04|__|__|__|13|__|__|\n",
      "__|02|__|__|__|__|__|15|__|\n",
      "00|__|__|__|__|__|__|__|17|\n",
      "CPU times: user 11.9 ms, sys: 4.01 ms, total: 15.9 ms\n",
      "Wall time: 28.9 ms\n"
     ]
    }
   ],
   "source": [
    "%%time\n",
    "size = 9\n",
    "for i in crange(size):\n",
    "    for j in crange(size):\n",
    "        if i==j:\n",
    "            printb(i*2-1)\n",
    "        elif i==size-(j-1):\n",
    "            printb(size*2-(i*2))\n",
    "        else:\n",
    "            printb('_')\n",
    "    print()  "
   ]
  },
  {
   "cell_type": "markdown",
   "metadata": {},
   "source": [
    "## Question 4"
   ]
  },
  {
   "cell_type": "code",
   "execution_count": 54,
   "metadata": {},
   "outputs": [
    {
     "name": "stdout",
     "output_type": "stream",
     "text": [
      "01|__|__|__|01|__|__|__|16|\n",
      "__|03|__|__|03|__|__|14|__|\n",
      "__|__|05|__|05|__|12|__|__|\n",
      "__|__|__|07|07|10|__|__|__|\n",
      "00|02|04|06|09|10|12|14|16|\n",
      "__|__|__|06|11|11|__|__|__|\n",
      "__|__|04|__|13|__|13|__|__|\n",
      "__|02|__|__|15|__|__|15|__|\n",
      "00|__|__|__|17|__|__|__|17|\n"
     ]
    }
   ],
   "source": [
    "size = 9\n",
    "median=math.ceil(size/2)\n",
    "for i in crange(size):\n",
    "    for j in crange(size):\n",
    "        if i==j or j==median:\n",
    "            printb(i*2-1)\n",
    "        elif  i==size-(j-1):\n",
    "            printb(size*2-(i*2))\n",
    "        elif i==median:\n",
    "            printb(size*2-(size+1-j)*2)\n",
    "        else:\n",
    "            printb('_')\n",
    "    print()"
   ]
  },
  {
   "cell_type": "markdown",
   "metadata": {},
   "source": [
    "## Question 5"
   ]
  },
  {
   "cell_type": "code",
   "execution_count": 55,
   "metadata": {},
   "outputs": [
    {
     "name": "stdout",
     "output_type": "stream",
     "text": [
      "01|__|__|__|__|__|__|__|__|\n",
      "01|03|__|__|__|__|__|__|__|\n",
      "01|03|05|__|__|__|__|__|__|\n",
      "01|03|05|07|__|__|__|__|__|\n",
      "01|03|05|07|09|__|__|__|__|\n",
      "01|03|05|07|09|11|__|__|__|\n",
      "01|03|05|07|09|11|13|__|__|\n",
      "01|03|05|07|09|11|13|15|__|\n",
      "01|03|05|07|09|11|13|15|17|\n"
     ]
    }
   ],
   "source": [
    "size = 9\n",
    "for i in crange(size):\n",
    "    for j in crange(size):\n",
    "        if j<=i:\n",
    "            printb(j*2-1)\n",
    "        else:\n",
    "            printb('_')\n",
    "    print()"
   ]
  },
  {
   "cell_type": "markdown",
   "metadata": {},
   "source": [
    "## Question 6"
   ]
  },
  {
   "cell_type": "code",
   "execution_count": 56,
   "metadata": {},
   "outputs": [
    {
     "name": "stdout",
     "output_type": "stream",
     "text": [
      "__|__|__|__|__|__|__|__|16|\n",
      "__|__|__|__|__|__|__|14|14|\n",
      "__|__|__|__|__|__|12|12|12|\n",
      "__|__|__|__|__|10|10|10|10|\n",
      "__|__|__|__|08|08|08|08|08|\n",
      "__|__|__|06|06|06|06|06|06|\n",
      "__|__|04|04|04|04|04|04|04|\n",
      "__|02|02|02|02|02|02|02|02|\n",
      "00|00|00|00|00|00|00|00|00|\n"
     ]
    }
   ],
   "source": [
    "size = 9\n",
    "for i in crange(9):\n",
    "    for j in crange(9):\n",
    "        if i>=size-(j-1):\n",
    "            printb(size*2-i*2)\n",
    "        else:\n",
    "            printb('_')\n",
    "    print()"
   ]
  },
  {
   "cell_type": "markdown",
   "metadata": {},
   "source": [
    "## Question 7"
   ]
  },
  {
   "cell_type": "code",
   "execution_count": 57,
   "metadata": {},
   "outputs": [
    {
     "name": "stdout",
     "output_type": "stream",
     "text": [
      "01|_A|_A|_A|_A|_A|_A|_A|16|\n",
      "__|03|_A|_A|_A|_A|_A|14|__|\n",
      "__|__|05|_A|_A|_A|12|__|__|\n",
      "__|__|__|07|_A|10|__|__|__|\n",
      "__|__|__|__|09|__|__|__|__|\n",
      "__|__|__|06|_B|11|__|__|__|\n",
      "__|__|04|_B|_B|_B|13|__|__|\n",
      "__|02|_B|_B|_B|_B|_B|15|__|\n",
      "00|_B|_B|_B|_B|_B|_B|_B|17|\n"
     ]
    }
   ],
   "source": [
    "size = 9\n",
    "for i in crange(size):\n",
    "    for j in crange(size):\n",
    "        if i==j:\n",
    "            printb(i*2-1)\n",
    "        elif i==size-(j-1):\n",
    "            printb(size*2-(i*2))\n",
    "        elif i<j and i<size-(j-1):\n",
    "            printb('A')\n",
    "        elif i>j and i>size-(j-1):\n",
    "            printb('B')\n",
    "        else:\n",
    "            printb('_')\n",
    "    print()  "
   ]
  },
  {
   "cell_type": "markdown",
   "metadata": {},
   "source": [
    "## Question 8"
   ]
  },
  {
   "cell_type": "code",
   "execution_count": 58,
   "metadata": {},
   "outputs": [
    {
     "name": "stdout",
     "output_type": "stream",
     "text": [
      "01|__|__|__|__|__|__|__|16|\n",
      "_A|03|__|__|__|__|__|14|_B|\n",
      "_A|_A|05|__|__|__|12|_B|_B|\n",
      "_A|_A|_A|07|__|10|_B|_B|_B|\n",
      "_A|_A|_A|_A|09|_B|_B|_B|_B|\n",
      "_A|_A|_A|06|__|11|_B|_B|_B|\n",
      "_A|_A|04|__|__|__|13|_B|_B|\n",
      "_A|02|__|__|__|__|__|15|_B|\n",
      "00|__|__|__|__|__|__|__|17|\n"
     ]
    }
   ],
   "source": [
    "size = 9\n",
    "for i in crange(size):\n",
    "    for j in crange(size):\n",
    "        if i==j:\n",
    "            printb(i*2-1)\n",
    "        elif i==size-(j-1):\n",
    "            printb(size*2-(i*2))\n",
    "        elif j<i and j<size-(i-1):\n",
    "            printb('A')\n",
    "        elif j>=i and j>=size-(i-1):\n",
    "            printb('B')\n",
    "        else:\n",
    "            printb('_')\n",
    "    print()"
   ]
  },
  {
   "cell_type": "code",
   "execution_count": null,
   "metadata": {},
   "outputs": [],
   "source": []
  }
 ],
 "metadata": {
  "kernelspec": {
   "display_name": "Python 3",
   "language": "python",
   "name": "python3"
  },
  "language_info": {
   "codemirror_mode": {
    "name": "ipython",
    "version": 3
   },
   "file_extension": ".py",
   "mimetype": "text/x-python",
   "name": "python",
   "nbconvert_exporter": "python",
   "pygments_lexer": "ipython3",
   "version": "3.6.6"
  }
 },
 "nbformat": 4,
 "nbformat_minor": 2
}
