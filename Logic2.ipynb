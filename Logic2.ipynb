{
 "cells": [
  {
   "cell_type": "code",
   "execution_count": 13,
   "metadata": {},
   "outputs": [],
   "source": [
    "def crange(size):\n",
    "    return range(1,size+1)\n",
    "def println(text):\n",
    "    print(text, end='')"
   ]
  },
  {
   "cell_type": "code",
   "execution_count": 14,
   "metadata": {},
   "outputs": [
    {
     "name": "stdout",
     "output_type": "stream",
     "text": [
      "1________\n",
      "_3_______\n",
      "__5______\n",
      "___7_____\n",
      "____9____\n",
      "_____11___\n",
      "______13__\n",
      "_______15_\n",
      "________17\n"
     ]
    }
   ],
   "source": [
    "# Question 1\n",
    "size = 9\n",
    "for i in crange(size):\n",
    "    for j in crange(size):\n",
    "        if i==j:\n",
    "            println(i*2-1)\n",
    "        else:\n",
    "            println('_')\n",
    "    print()"
   ]
  },
  {
   "cell_type": "code",
   "execution_count": 15,
   "metadata": {},
   "outputs": [
    {
     "name": "stdout",
     "output_type": "stream",
     "text": [
      "________16\n",
      "_______14_\n",
      "______12__\n",
      "_____10___\n",
      "____8____\n",
      "___6_____\n",
      "__4______\n",
      "_2_______\n",
      "0________\n"
     ]
    }
   ],
   "source": [
    "# Question 2\n",
    "size = 9\n",
    "for i in crange(size):\n",
    "    for j in crange(size):\n",
    "        if i==size-(j-1):\n",
    "            println(size*2-(2*i))\n",
    "        else:\n",
    "            println('_')\n",
    "    print()"
   ]
  },
  {
   "cell_type": "code",
   "execution_count": 17,
   "metadata": {},
   "outputs": [
    {
     "name": "stdout",
     "output_type": "stream",
     "text": [
      "1_______16\n",
      "_3_____14_\n",
      "__5___12__\n",
      "___7_10___\n",
      "____9____\n",
      "___6_11___\n",
      "__4___13__\n",
      "_2_____15_\n",
      "0_______17\n"
     ]
    }
   ],
   "source": [
    "# Question 3\n",
    "size = 9\n",
    "number1 = 1\n",
    "number2 = 16\n",
    "for i in crange(size):\n",
    "    for j in crange(size):\n",
    "        if i==j:\n",
    "            println(i*2-1)\n",
    "        elif i==size-(j-1):\n",
    "            println(size*2-(i*2))\n",
    "        else:\n",
    "            println('_')\n",
    "    print()      \n",
    "        "
   ]
  },
  {
   "cell_type": "code",
   "execution_count": null,
   "metadata": {},
   "outputs": [],
   "source": []
  }
 ],
 "metadata": {
  "kernelspec": {
   "display_name": "Python 3",
   "language": "python",
   "name": "python3"
  },
  "language_info": {
   "codemirror_mode": {
    "name": "ipython",
    "version": 3
   },
   "file_extension": ".py",
   "mimetype": "text/x-python",
   "name": "python",
   "nbconvert_exporter": "python",
   "pygments_lexer": "ipython3",
   "version": "3.6.5"
  }
 },
 "nbformat": 4,
 "nbformat_minor": 2
}
