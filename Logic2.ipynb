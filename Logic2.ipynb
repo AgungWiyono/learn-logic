{
 "cells": [
  {
   "cell_type": "code",
   "execution_count": 20,
   "metadata": {},
   "outputs": [],
   "source": [
    "def crange(size):\n",
    "    return range(1,size+1)\n",
    "    \n",
    "def twoDigit(param):\n",
    "    if type(param)==int:\n",
    "        if len(str(param))<2:\n",
    "            return('0{}'.format(str(param)))\n",
    "    else:\n",
    "        if len(param)<2:\n",
    "            return('_{}'.format(param))\n",
    "    return param\n",
    "\n",
    "\n",
    "def println(text):\n",
    "    print(twoDigit(text), end='|')"
   ]
  },
  {
   "cell_type": "code",
   "execution_count": 22,
   "metadata": {},
   "outputs": [
    {
     "name": "stdout",
     "output_type": "stream",
     "text": [
      "04|"
     ]
    }
   ],
   "source": [
    "# Testing Ground\n",
    "\n",
    "println(4)"
   ]
  },
  {
   "cell_type": "markdown",
   "metadata": {},
   "source": [
    "## Question 1"
   ]
  },
  {
   "cell_type": "code",
   "execution_count": 23,
   "metadata": {},
   "outputs": [
    {
     "name": "stdout",
     "output_type": "stream",
     "text": [
      "01|__|__|__|__|__|__|__|__|\n",
      "__|03|__|__|__|__|__|__|__|\n",
      "__|__|05|__|__|__|__|__|__|\n",
      "__|__|__|07|__|__|__|__|__|\n",
      "__|__|__|__|09|__|__|__|__|\n",
      "__|__|__|__|__|11|__|__|__|\n",
      "__|__|__|__|__|__|13|__|__|\n",
      "__|__|__|__|__|__|__|15|__|\n",
      "__|__|__|__|__|__|__|__|17|\n"
     ]
    }
   ],
   "source": [
    "# Question 1\n",
    "size = 9\n",
    "for i in crange(size):\n",
    "    for j in crange(size):\n",
    "        if i==j:\n",
    "            println(i*2-1)\n",
    "        else:\n",
    "            println('_')\n",
    "    print()"
   ]
  },
  {
   "cell_type": "markdown",
   "metadata": {},
   "source": [
    "## Question 2"
   ]
  },
  {
   "cell_type": "code",
   "execution_count": 24,
   "metadata": {},
   "outputs": [
    {
     "name": "stdout",
     "output_type": "stream",
     "text": [
      "__|__|__|__|__|__|__|__|16|\n",
      "__|__|__|__|__|__|__|14|__|\n",
      "__|__|__|__|__|__|12|__|__|\n",
      "__|__|__|__|__|10|__|__|__|\n",
      "__|__|__|__|08|__|__|__|__|\n",
      "__|__|__|06|__|__|__|__|__|\n",
      "__|__|04|__|__|__|__|__|__|\n",
      "__|02|__|__|__|__|__|__|__|\n",
      "00|__|__|__|__|__|__|__|__|\n"
     ]
    }
   ],
   "source": [
    "# Question 2\n",
    "size = 9\n",
    "for i in crange(size):\n",
    "    for j in crange(size):\n",
    "        if i==size-(j-1):\n",
    "            println(size*2-(2*i))\n",
    "        else:\n",
    "            println('_')\n",
    "    print()"
   ]
  },
  {
   "cell_type": "markdown",
   "metadata": {},
   "source": [
    "## Question 3"
   ]
  },
  {
   "cell_type": "code",
   "execution_count": 31,
   "metadata": {},
   "outputs": [
    {
     "name": "stdout",
     "output_type": "stream",
     "text": [
      "01|__|__|__|__|__|__|__|16|\n",
      "__|03|__|__|__|__|__|14|__|\n",
      "__|__|05|__|__|__|12|__|__|\n",
      "__|__|__|07|__|10|__|__|__|\n",
      "__|__|__|__|09|__|__|__|__|\n",
      "__|__|__|06|__|11|__|__|__|\n",
      "__|__|04|__|__|__|13|__|__|\n",
      "__|02|__|__|__|__|__|15|__|\n",
      "00|__|__|__|__|__|__|__|17|\n"
     ]
    }
   ],
   "source": [
    "# Question 3\n",
    "size = 9\n",
    "number1 = 1\n",
    "number2 = 16\n",
    "for i in crange(size):\n",
    "    for j in crange(size):\n",
    "        if i==j:\n",
    "            println(i*2-1)\n",
    "        elif i==size-(j-1):\n",
    "            println(j*2-2)\n",
    "        else:\n",
    "            println('_')\n",
    "    print()      \n",
    "        "
   ]
  },
  {
   "cell_type": "markdown",
   "metadata": {},
   "source": [
    "## Question 4"
   ]
  },
  {
   "cell_type": "code",
   "execution_count": 30,
   "metadata": {},
   "outputs": [
    {
     "name": "stdout",
     "output_type": "stream",
     "text": [
      "01|__|__|__|01|__|__|__|16|\n",
      "__|03|__|__|03|__|__|14|__|\n",
      "__|__|05|__|05|__|12|__|__|\n",
      "__|__|__|07|07|10|__|__|__|\n",
      "00|02|04|06|09|10|12|14|16|\n",
      "__|__|__|06|11|11|__|__|__|\n",
      "__|__|04|__|13|__|13|__|__|\n",
      "__|02|__|__|15|__|__|15|__|\n",
      "00|__|__|__|17|__|__|__|17|\n"
     ]
    }
   ],
   "source": [
    "size = 9\n",
    "number1 = 1\n",
    "number2 = 16\n",
    "for i in crange(size):\n",
    "    for j in crange(size):\n",
    "        if i==j or j==size//2+1:\n",
    "            println(i*2-1)\n",
    "        elif i==size-(j-1) or i==size//2+1:\n",
    "            println(j*2-2)\n",
    "        else:\n",
    "            println('_')\n",
    "    print() "
   ]
  },
  {
   "cell_type": "markdown",
   "metadata": {},
   "source": [
    "## Question 5"
   ]
  },
  {
   "cell_type": "code",
   "execution_count": 35,
   "metadata": {},
   "outputs": [
    {
     "name": "stdout",
     "output_type": "stream",
     "text": [
      "01|__|__|__|__|__|__|__|__|\n",
      "01|03|__|__|__|__|__|__|__|\n",
      "01|03|05|__|__|__|__|__|__|\n",
      "01|03|05|07|__|__|__|__|__|\n",
      "01|03|05|07|09|__|__|__|__|\n",
      "01|03|05|07|09|11|__|__|__|\n",
      "01|03|05|07|09|11|13|__|__|\n",
      "01|03|05|07|09|11|13|15|__|\n",
      "01|03|05|07|09|11|13|15|17|\n"
     ]
    }
   ],
   "source": [
    "size = 9\n",
    "for i in crange(9):\n",
    "    for j in crange(9):\n",
    "        if j<=i:\n",
    "            println(j*2-1)\n",
    "        else:\n",
    "            println('_')\n",
    "    print()"
   ]
  },
  {
   "cell_type": "markdown",
   "metadata": {},
   "source": [
    "## Question 6"
   ]
  },
  {
   "cell_type": "code",
   "execution_count": 38,
   "metadata": {},
   "outputs": [
    {
     "name": "stdout",
     "output_type": "stream",
     "text": [
      "__|__|__|__|__|__|__|__|16|\n",
      "__|__|__|__|__|__|__|14|16|\n",
      "__|__|__|__|__|__|12|14|16|\n",
      "__|__|__|__|__|10|12|14|16|\n",
      "__|__|__|__|08|10|12|14|16|\n",
      "__|__|__|06|08|10|12|14|16|\n",
      "__|__|04|06|08|10|12|14|16|\n",
      "__|02|04|06|08|10|12|14|16|\n",
      "00|02|04|06|08|10|12|14|16|\n"
     ]
    }
   ],
   "source": [
    "size = 9\n",
    "for i in crange(9):\n",
    "    for j in crange(9):\n",
    "        if j>(size-i):\n",
    "            println(j*2-2)\n",
    "        else:\n",
    "            println('_')\n",
    "    print()"
   ]
  },
  {
   "cell_type": "markdown",
   "metadata": {},
   "source": [
    "## Question 7"
   ]
  },
  {
   "cell_type": "code",
   "execution_count": 65,
   "metadata": {},
   "outputs": [
    {
     "name": "stdout",
     "output_type": "stream",
     "text": [
      "01|_A|_A|_A|_A|_A|_A|_A|16|\n",
      "__|03|_A|_A|_A|_A|_A|14|__|\n",
      "__|__|05|_A|_A|_A|12|__|__|\n",
      "__|__|__|07|_A|10|__|__|__|\n",
      "__|__|__|__|09|__|__|__|__|\n",
      "__|__|__|06|_B|11|__|__|__|\n",
      "__|__|04|_B|_B|_B|13|__|__|\n",
      "__|02|_B|_B|_B|_B|_B|15|__|\n",
      "00|_B|_B|_B|_B|_B|_B|_B|17|\n"
     ]
    }
   ],
   "source": [
    "size = 9\n",
    "number1 = 1\n",
    "number2 = 16\n",
    "for i in crange(size):\n",
    "    for j in crange(size):\n",
    "        if i==j:\n",
    "            println(i*2-1)\n",
    "        elif  i==size-(j-1):\n",
    "            println(j*2-2)\n",
    "        elif j>i and j<size-(i-1):\n",
    "            println('A')\n",
    "        elif i>j and j>size-(i-1):\n",
    "            println('B')\n",
    "        else:\n",
    "            println('_')\n",
    "    print()"
   ]
  },
  {
   "cell_type": "markdown",
   "metadata": {},
   "source": [
    "## Question 8"
   ]
  },
  {
   "cell_type": "code",
   "execution_count": 70,
   "metadata": {},
   "outputs": [
    {
     "name": "stdout",
     "output_type": "stream",
     "text": [
      "01|__|__|__|__|__|__|__|16|\n",
      "_A|03|__|__|__|__|__|14|_B|\n",
      "_A|_A|05|__|__|__|12|_B|_B|\n",
      "_A|_A|_A|07|__|10|_B|_B|_B|\n",
      "_A|_A|_A|_A|09|_B|_B|_B|_B|\n",
      "_A|_A|_A|06|__|11|_B|_B|_B|\n",
      "_A|_A|04|__|__|__|13|_B|_B|\n",
      "_A|02|__|__|__|__|__|15|_B|\n",
      "00|__|__|__|__|__|__|__|17|\n"
     ]
    }
   ],
   "source": [
    "size = 9\n",
    "for i in crange(size):\n",
    "    for j in crange(size):\n",
    "        if j<i and i<size-(j-1):\n",
    "            println('A')\n",
    "        elif j>i and i>size-(j-1):\n",
    "            println('B')\n",
    "        elif i==j:\n",
    "            println(i*2-1)\n",
    "        elif i==size-(j-1):\n",
    "            println(j*2-2)\n",
    "        else:\n",
    "            println('_')\n",
    "    print()"
   ]
  },
  {
   "cell_type": "code",
   "execution_count": null,
   "metadata": {},
   "outputs": [],
   "source": []
  }
 ],
 "metadata": {
  "kernelspec": {
   "display_name": "Python 3",
   "language": "python",
   "name": "python3"
  },
  "language_info": {
   "codemirror_mode": {
    "name": "ipython",
    "version": 3
   },
   "file_extension": ".py",
   "mimetype": "text/x-python",
   "name": "python",
   "nbconvert_exporter": "python",
   "pygments_lexer": "ipython3",
   "version": "3.6.6"
  }
 },
 "nbformat": 4,
 "nbformat_minor": 2
}
