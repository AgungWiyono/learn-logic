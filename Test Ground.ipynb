{
 "cells": [
  {
   "cell_type": "markdown",
   "metadata": {},
   "source": [
    "## Reference Code"
   ]
  },
  {
   "cell_type": "code",
   "execution_count": 13,
   "metadata": {},
   "outputs": [],
   "source": [
    "def crange(param1, param2=None):\n",
    "    if param2==None:\n",
    "        return range(1, param1+1)\n",
    "    else:\n",
    "        return range(param1, param2+1)\n",
    "    \n",
    "def twoDigit(x):\n",
    "    x = str(x)\n",
    "    if len(x)<2:\n",
    "        return '0'+x if x.isdigit() else '_'+x\n",
    "    return x\n",
    "\n",
    "def bprint(x):\n",
    "    print('{}|'.format(x), end='')\n",
    "    \n",
    "def btprint(x):\n",
    "    print('{}|'.format(twoDigit(x)), end='')"
   ]
  },
  {
   "cell_type": "code",
   "execution_count": 9,
   "metadata": {},
   "outputs": [
    {
     "data": {
      "text/plain": [
       "'_w'"
      ]
     },
     "execution_count": 9,
     "metadata": {},
     "output_type": "execute_result"
    }
   ],
   "source": [
    "# Testing Ground"
   ]
  },
  {
   "cell_type": "markdown",
   "metadata": {},
   "source": [
    "## Question 1"
   ]
  },
  {
   "cell_type": "code",
   "execution_count": 14,
   "metadata": {},
   "outputs": [
    {
     "name": "stdout",
     "output_type": "stream",
     "text": [
      "01________________\n",
      "__03______________\n",
      "____05____________\n",
      "______07__________\n",
      "________09________\n",
      "__________11______\n",
      "____________13____\n",
      "______________15__\n",
      "________________17\n"
     ]
    }
   ],
   "source": [
    "size = 9\n",
    "for i in crange(9):\n",
    "    print(''.join([twoDigit(i*2-1) if i==j else twoDigit('_') for j in crange(9)]))"
   ]
  },
  {
   "cell_type": "markdown",
   "metadata": {},
   "source": [
    "## Question 2"
   ]
  },
  {
   "cell_type": "code",
   "execution_count": 16,
   "metadata": {},
   "outputs": [
    {
     "name": "stdout",
     "output_type": "stream",
     "text": [
      "________________16\n",
      "______________14__\n",
      "____________12____\n",
      "__________10______\n",
      "________08________\n",
      "______06__________\n",
      "____04____________\n",
      "__02______________\n",
      "00________________\n"
     ]
    }
   ],
   "source": [
    "size = 9\n",
    "for i in crange(size):\n",
    "    print(''.join([twoDigit(j*2-2) if i==size-(j-1) else twoDigit('_') for j in crange(9)]))"
   ]
  },
  {
   "cell_type": "markdown",
   "metadata": {},
   "source": [
    "## Question 3 "
   ]
  },
  {
   "cell_type": "code",
   "execution_count": 18,
   "metadata": {},
   "outputs": [
    {
     "name": "stdout",
     "output_type": "stream",
     "text": [
      "01|__|__|__|__|__|__|__|16|\n",
      "__|03|__|__|__|__|__|14|__|\n",
      "__|__|05|__|__|__|12|__|__|\n",
      "__|__|__|07|__|10|__|__|__|\n",
      "__|__|__|__|09|__|__|__|__|\n",
      "__|__|__|06|__|11|__|__|__|\n",
      "__|__|04|__|__|__|13|__|__|\n",
      "__|02|__|__|__|__|__|15|__|\n",
      "00|__|__|__|__|__|__|__|17|\n"
     ]
    }
   ],
   "source": [
    "size = 9\n",
    "for i in crange(size):\n",
    "    for j in crange(size):\n",
    "        param = i*2-1 if i==j else (j*2-2 if i==size-(j-1) else '_')\n",
    "        btprint(param)\n",
    "    print()"
   ]
  },
  {
   "cell_type": "markdown",
   "metadata": {},
   "source": [
    "## Question 4"
   ]
  },
  {
   "cell_type": "code",
   "execution_count": 21,
   "metadata": {},
   "outputs": [
    {
     "name": "stdout",
     "output_type": "stream",
     "text": [
      "01|__|__|__|01|__|__|__|16|\n",
      "__|03|__|__|03|__|__|14|__|\n",
      "__|__|05|__|05|__|12|__|__|\n",
      "__|__|__|07|07|10|__|__|__|\n",
      "00|02|04|06|09|10|12|14|16|\n",
      "__|__|__|06|11|11|__|__|__|\n",
      "__|__|04|__|13|__|13|__|__|\n",
      "__|02|__|__|15|__|__|15|__|\n",
      "00|__|__|__|17|__|__|__|17|\n"
     ]
    }
   ],
   "source": [
    "size = 9\n",
    "for i in crange(size):\n",
    "    for j in crange(size):\n",
    "        cond1 = i==j or j==size//2+1\n",
    "        cond2 = i==size-(j-1) or i==size//2+1\n",
    "        param = i*2-1 if cond1 else (j*2-2 if cond2 else '_')\n",
    "        btprint(param)\n",
    "    print()"
   ]
  },
  {
   "cell_type": "markdown",
   "metadata": {},
   "source": [
    "## Question 5"
   ]
  },
  {
   "cell_type": "code",
   "execution_count": 24,
   "metadata": {},
   "outputs": [
    {
     "name": "stdout",
     "output_type": "stream",
     "text": [
      "01|__|__|__|__|__|__|__|__|\n",
      "01|03|__|__|__|__|__|__|__|\n",
      "01|03|05|__|__|__|__|__|__|\n",
      "01|03|05|07|__|__|__|__|__|\n",
      "01|03|05|07|09|__|__|__|__|\n",
      "01|03|05|07|09|11|__|__|__|\n",
      "01|03|05|07|09|11|13|__|__|\n",
      "01|03|05|07|09|11|13|15|__|\n",
      "01|03|05|07|09|11|13|15|17|\n"
     ]
    }
   ],
   "source": [
    "size = 9\n",
    "\n",
    "for i in crange(size):\n",
    "    for j in crange(size):\n",
    "        param = j*2-1 if i>=j else '_'\n",
    "        btprint(param)\n",
    "    print()"
   ]
  },
  {
   "cell_type": "markdown",
   "metadata": {},
   "source": [
    "## Question 6"
   ]
  },
  {
   "cell_type": "code",
   "execution_count": 26,
   "metadata": {},
   "outputs": [
    {
     "name": "stdout",
     "output_type": "stream",
     "text": [
      "__|__|__|__|__|__|__|__|16|\n",
      "__|__|__|__|__|__|__|14|14|\n",
      "__|__|__|__|__|__|12|12|12|\n",
      "__|__|__|__|__|10|10|10|10|\n",
      "__|__|__|__|08|08|08|08|08|\n",
      "__|__|__|06|06|06|06|06|06|\n",
      "__|__|04|04|04|04|04|04|04|\n",
      "__|02|02|02|02|02|02|02|02|\n",
      "00|00|00|00|00|00|00|00|00|\n"
     ]
    }
   ],
   "source": [
    "size = 9\n",
    "\n",
    "for i in crange(size):\n",
    "    for j in crange(size):\n",
    "        param = (size-i)*2 if i>=size-(j-1) else '_'\n",
    "        btprint(param)\n",
    "    print()"
   ]
  },
  {
   "cell_type": "markdown",
   "metadata": {},
   "source": [
    "## Question 7"
   ]
  },
  {
   "cell_type": "code",
   "execution_count": 33,
   "metadata": {},
   "outputs": [
    {
     "name": "stdout",
     "output_type": "stream",
     "text": [
      "01|_A|_A|_A|_A|_A|_A|_A|16|\n",
      "__|03|_A|_A|_A|_A|_A|14|__|\n",
      "__|__|05|_A|_A|_A|12|__|__|\n",
      "__|__|__|07|_A|10|__|__|__|\n",
      "__|__|__|__|09|__|__|__|__|\n",
      "__|__|__|06|_B|11|__|__|__|\n",
      "__|__|04|_B|_B|_B|13|__|__|\n",
      "__|02|_B|_B|_B|_B|_B|15|__|\n",
      "00|_B|_B|_B|_B|_B|_B|_B|17|\n"
     ]
    }
   ],
   "source": [
    "size = 9\n",
    "\n",
    "for i in crange(size):\n",
    "    for j in crange(size):\n",
    "        if i==j:\n",
    "            btprint(i*2-1)\n",
    "        elif i==size-(j-1):\n",
    "            btprint(j*2-2)\n",
    "        elif i<j and i<size-(j-1):\n",
    "            btprint('A')\n",
    "        elif i>j and i>size-(j-1):\n",
    "            btprint('B')\n",
    "        else:\n",
    "            btprint('_')\n",
    "    print()"
   ]
  },
  {
   "cell_type": "markdown",
   "metadata": {},
   "source": [
    "## Question 8"
   ]
  },
  {
   "cell_type": "code",
   "execution_count": 35,
   "metadata": {},
   "outputs": [
    {
     "name": "stdout",
     "output_type": "stream",
     "text": [
      "01|__|__|__|__|__|__|__|16|\n",
      "_A|03|__|__|__|__|__|14|_B|\n",
      "_A|_A|05|__|__|__|12|_B|_B|\n",
      "_A|_A|_A|07|__|10|_B|_B|_B|\n",
      "_A|_A|_A|_A|09|_B|_B|_B|_B|\n",
      "_A|_A|_A|06|__|11|_B|_B|_B|\n",
      "_A|_A|04|__|__|__|13|_B|_B|\n",
      "_A|02|__|__|__|__|__|15|_B|\n",
      "00|__|__|__|__|__|__|__|17|\n"
     ]
    }
   ],
   "source": [
    "size = 9\n",
    "\n",
    "for i in crange(size):\n",
    "    for j in crange(size):\n",
    "        if i==j:\n",
    "            btprint(i*2-1)\n",
    "        elif i==size-(j-1):\n",
    "            btprint(j*2-2)\n",
    "        elif i>j and i<size-(j-1):\n",
    "            btprint('A')\n",
    "        elif i<j and i>size-(j-1):\n",
    "            btprint('B')\n",
    "        else:\n",
    "            btprint('_')\n",
    "    print()"
   ]
  },
  {
   "cell_type": "markdown",
   "metadata": {},
   "source": [
    "# LOGIC 3 "
   ]
  },
  {
   "cell_type": "code",
   "execution_count": 47,
   "metadata": {},
   "outputs": [],
   "source": [
    "def fibo1(x):\n",
    "    if x<=2:\n",
    "        return 1\n",
    "    else:\n",
    "        return fibo1(x-1) + fibo1(x-2)\n",
    "\n",
    "def fibo2(x):\n",
    "    if x<=3:\n",
    "        return 1\n",
    "    else:\n",
    "        return fibo2(x-1) + fibo2(x-2) + fibo2(x-3)\n",
    "    \n",
    "def gcd(x,y):\n",
    "    if y==0:\n",
    "        return x\n",
    "    elif y==1:\n",
    "        return 1\n",
    "    else:\n",
    "        return gcm(y, x%y)\n",
    "\n",
    "def lcm(x,y):\n",
    "    return x*y/gcm(x,y)"
   ]
  },
  {
   "cell_type": "code",
   "execution_count": 44,
   "metadata": {},
   "outputs": [
    {
     "data": {
      "text/plain": [
       "3"
      ]
     },
     "execution_count": 44,
     "metadata": {},
     "output_type": "execute_result"
    }
   ],
   "source": [
    "gcd(6,9)"
   ]
  },
  {
   "cell_type": "markdown",
   "metadata": {},
   "source": [
    "## Question 1"
   ]
  },
  {
   "cell_type": "code",
   "execution_count": 38,
   "metadata": {},
   "outputs": [
    {
     "name": "stdout",
     "output_type": "stream",
     "text": [
      "01|01|02|03|05|08|13|21|34|"
     ]
    }
   ],
   "source": [
    "size = 9\n",
    "\n",
    "for i in crange(size):\n",
    "    btprint(fibo1(i))"
   ]
  },
  {
   "cell_type": "markdown",
   "metadata": {},
   "source": [
    "## Question 2"
   ]
  },
  {
   "cell_type": "code",
   "execution_count": 39,
   "metadata": {},
   "outputs": [
    {
     "name": "stdout",
     "output_type": "stream",
     "text": [
      "01|01|01|03|05|09|17|31|57|"
     ]
    }
   ],
   "source": [
    "size = 9\n",
    "\n",
    "for i in crange(size):\n",
    "    btprint(fibo2(i))"
   ]
  },
  {
   "cell_type": "markdown",
   "metadata": {},
   "source": [
    "## Question 3"
   ]
  },
  {
   "cell_type": "code",
   "execution_count": 48,
   "metadata": {},
   "outputs": [
    {
     "name": "stdout",
     "output_type": "stream",
     "text": [
      "FPB dari 9 dan 6 adalah 3.\n",
      "KPK dari 9 dan 6 adalah 18.0.\n"
     ]
    }
   ],
   "source": [
    "x = 9\n",
    "y = 6\n",
    "print('FPB dari {} dan {} adalah {}.'.format(x, y, gcd(x,y)))\n",
    "print('KPK dari {} dan {} adalah {}.'.format(x, y, lcm(x,y)))"
   ]
  },
  {
   "cell_type": "code",
   "execution_count": 54,
   "metadata": {},
   "outputs": [
    {
     "name": "stdout",
     "output_type": "stream",
     "text": [
      "01|_A|_A|_A|_A|_A|_A|_A|17|\n",
      "_D|03|_A|_A|_A|_A|_A|15|_B|\n",
      "_D|_D|05|_A|_A|_A|13|_B|_B|\n",
      "_D|_D|_D|07|_A|11|_B|_B|_B|\n",
      "_D|_D|_D|_D|09|_B|_B|_B|_B|\n",
      "_D|_D|_D|07|_C|11|_B|_B|_B|\n",
      "_D|_D|05|_C|_C|_C|13|_B|_B|\n",
      "_D|03|_C|_C|_C|_C|_C|15|_B|\n",
      "01|_C|_C|_C|_C|_C|_C|_C|17|\n"
     ]
    }
   ],
   "source": [
    "size = 9\n",
    "\n",
    "\n",
    "for i in crange(9):\n",
    "    for j in crange(9):\n",
    "        if i==j:\n",
    "            btprint(i*2-1)\n",
    "        elif i==size-(j-1):\n",
    "            btprint(j*2-1)\n",
    "        elif i<j and i<size-(j-1):\n",
    "            btprint('A')\n",
    "        elif i>j and i>size-(j-1):\n",
    "            btprint('C')\n",
    "        elif i<j and i>size-(j-1):\n",
    "            btprint('B')\n",
    "        else:\n",
    "            btprint('D')\n",
    "    print()"
   ]
  },
  {
   "cell_type": "markdown",
   "metadata": {},
   "source": [
    "## Question 5"
   ]
  },
  {
   "cell_type": "code",
   "execution_count": 78,
   "metadata": {},
   "outputs": [
    {
     "name": "stdout",
     "output_type": "stream",
     "text": [
      "01|01|01|02|03|02|01|01|01|\n",
      "01|01|01|02|03|02|01|01|01|\n",
      "01|01|01|02|03|02|01|01|01|\n",
      "01|01|01|02|03|02|01|01|01|\n",
      "01|01|01|02|03|02|01|01|01|\n",
      "01|01|01|02|03|02|01|01|01|\n",
      "01|01|01|02|03|02|01|01|01|\n",
      "01|01|01|02|03|02|01|01|01|\n",
      "01|01|01|02|03|02|01|01|01|\n"
     ]
    }
   ],
   "source": [
    "size = 9\n",
    "bound = 9//2\n",
    "\n",
    "for i in crange(-bound, bound):\n",
    "    for j in crange(-bound, bound):\n",
    "        ax = abs(i)\n",
    "        ay = abs(y)\n",
    "        if ax < ay:\n",
    "            param = bound-abs(j)\n",
    "            btprint(fibo1(param))\n",
    "        else:\n",
    "            param = bound-abs(i)\n",
    "            btprint(fibo1(param))\n",
    "    print()"
   ]
  },
  {
   "cell_type": "markdown",
   "metadata": {},
   "source": [
    "## Question 6"
   ]
  },
  {
   "cell_type": "code",
   "execution_count": 69,
   "metadata": {},
   "outputs": [
    {
     "name": "stdout",
     "output_type": "stream",
     "text": [
      "01|01|01|01|01|01|01|01|01|\n",
      "01|__|__|__|__|__|__|__|01|\n",
      "01|__|03|03|03|03|03|__|01|\n",
      "01|__|03|__|__|__|03|__|01|\n",
      "01|__|03|__|05|__|03|__|01|\n",
      "01|__|03|__|__|__|03|__|01|\n",
      "01|__|03|03|03|03|03|__|01|\n",
      "01|__|__|__|__|__|__|__|01|\n",
      "01|01|01|01|01|01|01|01|01|\n"
     ]
    }
   ],
   "source": [
    "size = 9\n",
    "bound = size//2\n",
    "median = bound+1\n",
    "\n",
    "for i in crange(-bound, bound):\n",
    "    for j in crange(-bound, bound):\n",
    "        if abs(i)<abs(j):\n",
    "            param = median-abs(j) if abs(j)%2==0 else '_'\n",
    "            btprint(param)\n",
    "        else:\n",
    "            param = median -abs(i) if abs(i)%2==0 else '_'\n",
    "            btprint(param)\n",
    "    print()\n",
    "            "
   ]
  },
  {
   "cell_type": "markdown",
   "metadata": {},
   "source": [
    "## Question 7"
   ]
  },
  {
   "cell_type": "code",
   "execution_count": 77,
   "metadata": {},
   "outputs": [
    {
     "name": "stdout",
     "output_type": "stream",
     "text": [
      "01|01|01|01|01|01|01|01|01|\n",
      "01|__|__|__|__|__|__|__|01|\n",
      "01|__|01|01|01|01|01|__|01|\n",
      "01|__|01|__|__|__|01|__|01|\n",
      "01|__|01|__|03|__|01|__|01|\n",
      "01|__|01|__|__|__|01|__|01|\n",
      "01|__|01|01|01|01|01|__|01|\n",
      "01|__|__|__|__|__|__|__|01|\n",
      "01|01|01|01|01|01|01|01|01|\n"
     ]
    }
   ],
   "source": [
    "size = 9\n",
    "bound = size//2\n",
    "median = 9//2+1\n",
    "\n",
    "for i in crange(-bound, bound):\n",
    "    for j in crange(-bound, bound):\n",
    "        if abs(i)<abs(j):\n",
    "            param = fibo1((median-abs(j)-1)) if abs(j)%2==0 else '_'\n",
    "            btprint(param)\n",
    "        else:\n",
    "            param = fibo1((median-abs(i))-1) if abs(i)%2==0 else '_'\n",
    "            btprint(param)\n",
    "    print()"
   ]
  },
  {
   "cell_type": "code",
   "execution_count": null,
   "metadata": {},
   "outputs": [],
   "source": []
  }
 ],
 "metadata": {
  "kernelspec": {
   "display_name": "Python 3",
   "language": "python",
   "name": "python3"
  },
  "language_info": {
   "codemirror_mode": {
    "name": "ipython",
    "version": 3
   },
   "file_extension": ".py",
   "mimetype": "text/x-python",
   "name": "python",
   "nbconvert_exporter": "python",
   "pygments_lexer": "ipython3",
   "version": "3.6.6"
  }
 },
 "nbformat": 4,
 "nbformat_minor": 2
}
