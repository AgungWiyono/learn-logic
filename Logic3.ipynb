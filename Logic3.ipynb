{
 "cells": [
  {
   "cell_type": "markdown",
   "metadata": {},
   "source": [
    "# LOGIC 3"
   ]
  },
  {
   "cell_type": "markdown",
   "metadata": {},
   "source": [
    "## Helper Function"
   ]
  },
  {
   "cell_type": "code",
   "execution_count": 1,
   "metadata": {},
   "outputs": [],
   "source": [
    "import math\n",
    "def crange(size):\n",
    "    return range(1,size+1)\n",
    "def twodigit(number):\n",
    "    if len(str(number))<2:\n",
    "        return '0'+str(number)\n",
    "    else:\n",
    "        return number\n",
    "    \n",
    "def println(text):\n",
    "    print(text, end='')\n",
    "    \n",
    "def borderer(text):\n",
    "    return('{}|'.format(text))\n",
    "\n",
    "def fibo(number):\n",
    "    fib_list = []\n",
    "    a = b = 1\n",
    "    for i in range(number):\n",
    "        fib_list.append(a)\n",
    "        a, b = b, a+b\n",
    "    return fib_list\n",
    "        "
   ]
  },
  {
   "cell_type": "code",
   "execution_count": 2,
   "metadata": {},
   "outputs": [
    {
     "name": "stdout",
     "output_type": "stream",
     "text": [
      "[1, 1, 2, 3, 5, 8, 13, 21, 34, 55]\n"
     ]
    }
   ],
   "source": [
    "print(fibo(10))"
   ]
  },
  {
   "cell_type": "markdown",
   "metadata": {},
   "source": [
    "## Question 1"
   ]
  },
  {
   "cell_type": "code",
   "execution_count": 3,
   "metadata": {},
   "outputs": [
    {
     "name": "stdout",
     "output_type": "stream",
     "text": [
      "1 1 2 3 5 8 13 21 34 "
     ]
    }
   ],
   "source": [
    "sequence = 9\n",
    "a = b =  1\n",
    "for i in range(sequence):\n",
    "    print(a, end=' ')\n",
    "    a , b=b, a+b"
   ]
  },
  {
   "cell_type": "markdown",
   "metadata": {},
   "source": [
    "## Question 2"
   ]
  },
  {
   "cell_type": "markdown",
   "metadata": {},
   "source": [
    "sequence = 9\n",
    "a = b = c = 1\n",
    "for i in range(sequence):\n",
    "    print(a, end=' ')\n",
    "    a, b, c = b, c, a+b+c"
   ]
  },
  {
   "cell_type": "markdown",
   "metadata": {},
   "source": [
    "## Question 3"
   ]
  },
  {
   "cell_type": "code",
   "execution_count": 4,
   "metadata": {},
   "outputs": [],
   "source": [
    "def kpk(a, b):\n",
    "    if b==0:\n",
    "        return(a)\n",
    "    else:\n",
    "        return kpk(b, a%b)\n",
    "def fpb(a, b):\n",
    "    return int(a*b/kpk(a,b))"
   ]
  },
  {
   "cell_type": "code",
   "execution_count": 5,
   "metadata": {},
   "outputs": [
    {
     "name": "stdout",
     "output_type": "stream",
     "text": [
      "6\n",
      "24\n"
     ]
    }
   ],
   "source": [
    "print(kpk(18,12))\n",
    "print(fpb(8,12))"
   ]
  },
  {
   "cell_type": "markdown",
   "metadata": {},
   "source": [
    "## Question 4"
   ]
  },
  {
   "cell_type": "code",
   "execution_count": 6,
   "metadata": {},
   "outputs": [
    {
     "name": "stdout",
     "output_type": "stream",
     "text": [
      "01|_A|_A|_A|_A|_A|_A|_A|16|\n",
      "_D|03|_A|_A|_A|_A|_A|14|_B|\n",
      "_D|_D|05|_A|_A|_A|12|_B|_B|\n",
      "_D|_D|_D|07|_A|10|_B|_B|_B|\n",
      "_D|_D|_D|_D|09|_B|_B|_B|_B|\n",
      "_D|_D|_D|06|_C|11|_B|_B|_B|\n",
      "_D|_D|04|_C|_C|_C|13|_B|_B|\n",
      "_D|02|_C|_C|_C|_C|_C|15|_B|\n",
      "00|_C|_C|_C|_C|_C|_C|_C|17|\n"
     ]
    }
   ],
   "source": [
    "size = 9\n",
    "for i in crange(size):\n",
    "    for j in crange(size):\n",
    "        if i==j:\n",
    "            println(borderer(twodigit(i*2-1)))\n",
    "        elif i==size-(j-1):\n",
    "            println(borderer(twodigit(size*2-(i*2))))\n",
    "        elif i<j and i<size-(j-1):\n",
    "            println(borderer('_A'))\n",
    "        elif i>j and i>size-(j-1):\n",
    "            println(borderer('_C'))\n",
    "        elif j<i and j<size-(j-1):\n",
    "            println(borderer('_D'))\n",
    "        elif j>1 and j>size-(j-1):\n",
    "            println(borderer('_B'))\n",
    "        else:\n",
    "            println(borderer('__'))\n",
    "    print()"
   ]
  },
  {
   "cell_type": "markdown",
   "metadata": {},
   "source": [
    "## Question 5"
   ]
  },
  {
   "cell_type": "code",
   "execution_count": 7,
   "metadata": {},
   "outputs": [
    {
     "name": "stdout",
     "output_type": "stream",
     "text": [
      "111111111\n",
      "111111111\n",
      "222222222\n",
      "333333333\n",
      "555555555\n",
      "333333333\n",
      "222222222\n",
      "111111111\n",
      "111111111\n",
      "=========\n",
      "112353211\n",
      "112353211\n",
      "112353211\n",
      "112353211\n",
      "112353211\n",
      "112353211\n",
      "112353211\n",
      "112353211\n",
      "112353211\n"
     ]
    }
   ],
   "source": [
    "# Testing only\n",
    "fib_list = [i for i in fibo(5)]\n",
    "for i in crange(len(fib_list)*2-1):\n",
    "    for j in crange(len(fib_list)*2-1):\n",
    "        if i>len(fib_list):\n",
    "            println(fib_list[(i-(len(fib_list)))*-1-1])\n",
    "        else:\n",
    "            println(fib_list[i-1])\n",
    "    print()\n",
    "print('='*9)\n",
    "for i in crange(len(fib_list)*2-1):\n",
    "    for j in crange(len(fib_list)*2-1):\n",
    "        if j>len(fib_list):\n",
    "            println(fib_list[(j-(len(fib_list)))*-1-1])\n",
    "        else:\n",
    "            println(fib_list[j-1])\n",
    "    print()\n"
   ]
  },
  {
   "cell_type": "code",
   "execution_count": 8,
   "metadata": {},
   "outputs": [
    {
     "name": "stdout",
     "output_type": "stream",
     "text": [
      "[1, 1, 2]\n",
      "11111\n",
      "12221\n",
      "12321\n",
      "12221\n",
      "11111\n"
     ]
    }
   ],
   "source": [
    "#Testing only\n",
    "fib_list = fibo(3)\n",
    "size = len(fib_list)*2-1\n",
    "median = math.ceil(size/2)\n",
    "# size = 7\n",
    "print(fib_list)\n",
    "for i in crange(size):\n",
    "    for j in crange(size):\n",
    "        if i<=math.ceil(size/2):\n",
    "            if j>=i and j<=size-(i-1):\n",
    "                println(i)\n",
    "            else:\n",
    "                if j>math.ceil(size/2):\n",
    "                    println(size-j+1)\n",
    "                else:\n",
    "                    println(j)\n",
    "        else:\n",
    "            if j>size-i and j<i+1:\n",
    "                println(size-i+1)\n",
    "            else:\n",
    "                if j>math.ceil(size/2):\n",
    "                    println(size-j+1)\n",
    "                else:\n",
    "                    println(j)\n",
    "    print()"
   ]
  },
  {
   "cell_type": "code",
   "execution_count": 9,
   "metadata": {},
   "outputs": [
    {
     "name": "stdout",
     "output_type": "stream",
     "text": [
      "[1, 1, 2, 3, 5, 8]\n",
      "11111111111\n",
      "11111111111\n",
      "11222222211\n",
      "11233333211\n",
      "11235553211\n",
      "11235853211\n",
      "11235553211\n",
      "11233333211\n",
      "11222222211\n",
      "11111111111\n",
      "11111111111\n"
     ]
    }
   ],
   "source": [
    "# Question 5 answer\n",
    "fib_list = fibo(6)\n",
    "size = len(fib_list)*2-1\n",
    "median = math.ceil(size/2)\n",
    "# size = 7\n",
    "print(fib_list)\n",
    "for i in crange(size):\n",
    "    for j in crange(size):\n",
    "        if i<=math.ceil(size/2):\n",
    "            if j>=i and j<=size-(i-1):\n",
    "                println(fib_list[i-1])\n",
    "            else:\n",
    "                if j>math.ceil(size/2):\n",
    "                    # println(size-j+1)\n",
    "                    println(fib_list[size-j])\n",
    "                else:\n",
    "                    # println(j)\n",
    "                    println(fib_list[j-1])\n",
    "        else:\n",
    "            if j>size-i and j<i+1:\n",
    "                # println(size-i+1)\n",
    "                println(fib_list[size-i])\n",
    "            else:\n",
    "                if j>math.ceil(size/2):\n",
    "                    # println(size-j+1)\n",
    "                    println(fib_list[size-j])\n",
    "                else:\n",
    "                    # println(j)\n",
    "                    println(fib_list[j-1])\n",
    "    print()"
   ]
  },
  {
   "cell_type": "markdown",
   "metadata": {},
   "source": [
    "## Question 6"
   ]
  },
  {
   "cell_type": "code",
   "execution_count": 29,
   "metadata": {},
   "outputs": [
    {
     "name": "stdout",
     "output_type": "stream",
     "text": [
      "1|1|1|1|1|1|1|1|1|\n",
      "1|_|_|_|_|_|_|_|1|\n",
      "1|_|3|3|3|3|3|_|1|\n",
      "1|_|3|_|_|_|3|_|1|\n",
      "1|_|3|_|5|_|3|_|1|\n",
      "1|_|3|_|_|_|3|_|1|\n",
      "1|_|3|3|3|3|3|_|1|\n",
      "1|_|_|_|_|_|_|_|1|\n",
      "1|1|1|1|1|1|1|1|1|\n"
     ]
    }
   ],
   "source": [
    "size = 9\n",
    "def evenKiller(number):\n",
    "    if number%2==0:\n",
    "        return '_'\n",
    "    else:\n",
    "        return number\n",
    "\n",
    "for i in crange(size):\n",
    "    for j in crange(size):\n",
    "        if i<=math.ceil(size/2):\n",
    "            if j>=i and j<=size-(i-1):\n",
    "                println(borderer(evenKiller(i)))\n",
    "            else:\n",
    "                if j>math.ceil(size/2):\n",
    "                    println(borderer(evenKiller(size-j+1)))\n",
    "                else:\n",
    "                    println(borderer(evenKiller(j)))\n",
    "        else:\n",
    "            if j>size-i and j<i+1:\n",
    "                println(borderer(evenKiller(size-i+1)))\n",
    "            else:\n",
    "                if j>math.ceil(size/2):\n",
    "                    println(borderer(evenKiller(size-j+1)))\n",
    "                else:\n",
    "                    println(borderer(evenKiller(j)))\n",
    "    print()"
   ]
  },
  {
   "cell_type": "markdown",
   "metadata": {},
   "source": [
    "## Question 7"
   ]
  },
  {
   "cell_type": "code",
   "execution_count": 8,
   "metadata": {},
   "outputs": [
    {
     "name": "stdout",
     "output_type": "stream",
     "text": [
      "1|1|1|1|1|1|1|1|1|1|1|1|1|1|1|1|1|\n",
      "1|A|A|A|A|A|A|A|A|A|A|A|A|A|A|A|1|\n",
      "1|A|1|1|1|1|1|1|1|1|1|1|1|1|1|A|1|\n",
      "1|A|1|B|B|B|B|B|B|B|B|B|B|B|1|A|1|\n",
      "1|A|1|B|2|2|2|2|2|2|2|2|2|B|1|A|1|\n",
      "1|A|1|B|2|C|C|C|C|C|C|C|2|B|1|A|1|\n",
      "1|A|1|B|2|C|3|3|3|3|3|C|2|B|1|A|1|\n",
      "1|A|1|B|2|C|3|D|D|D|3|C|2|B|1|A|1|\n",
      "1|A|1|B|2|C|3|D|5|D|3|C|2|B|1|A|1|\n",
      "1|A|1|B|2|C|3|D|D|D|3|C|2|B|1|A|1|\n",
      "1|A|1|B|2|C|3|3|3|3|3|C|2|B|1|A|1|\n",
      "1|A|1|B|2|C|C|C|C|C|C|C|2|B|1|A|1|\n",
      "1|A|1|B|2|2|2|2|2|2|2|2|2|B|1|A|1|\n",
      "1|A|1|B|B|B|B|B|B|B|B|B|B|B|1|A|1|\n",
      "1|A|1|1|1|1|1|1|1|1|1|1|1|1|1|A|1|\n",
      "1|A|A|A|A|A|A|A|A|A|A|A|A|A|A|A|1|\n",
      "1|1|1|1|1|1|1|1|1|1|1|1|1|1|1|1|1|\n"
     ]
    }
   ],
   "source": [
    "data = fibo(5)\n",
    "size = (len(data)-1)*4+1\n",
    "\n",
    "def is_even(number):\n",
    "    if number%2==0:\n",
    "        return False\n",
    "    else:\n",
    "        return True\n",
    "    \n",
    "def evenKiller(number):\n",
    "    if number%2==0:\n",
    "        return chr(64+number//2)\n",
    "    else:\n",
    "        if number == 1:\n",
    "            return 1\n",
    "        else:\n",
    "            # return data[math.ceil(number/2)]\n",
    "            return data[math.ceil(number/2)-1]\n",
    "    \n",
    "for i in crange(size):\n",
    "    for j in crange(size):\n",
    "        \n",
    "        # Upper side from the median\n",
    "        if i<=math.ceil(size/2):\n",
    "            # For horizontal line\n",
    "            if j>=i and j<=size-(i-1):\n",
    "                println(borderer(evenKiller(i)))\n",
    "            # For vertical line\n",
    "            else:\n",
    "                if j>math.ceil(size/2):\n",
    "                    println(borderer(evenKiller(size-j+1)))\n",
    "                else:\n",
    "                    println(borderer(evenKiller(j)))\n",
    "        # Lower side from the median\n",
    "        else:\n",
    "            if j>size-i and j<i+1:\n",
    "                println(borderer(evenKiller(size-i+1)))\n",
    "            else:\n",
    "                if j>math.ceil(size/2):\n",
    "                    println(borderer(evenKiller(size-j+1)))\n",
    "                else:\n",
    "                    println(borderer(evenKiller(j)))\n",
    "        \n",
    "    print()"
   ]
  },
  {
   "cell_type": "code",
   "execution_count": null,
   "metadata": {},
   "outputs": [],
   "source": []
  }
 ],
 "metadata": {
  "kernelspec": {
   "display_name": "Python 3",
   "language": "python",
   "name": "python3"
  },
  "language_info": {
   "codemirror_mode": {
    "name": "ipython",
    "version": 3
   },
   "file_extension": ".py",
   "mimetype": "text/x-python",
   "name": "python",
   "nbconvert_exporter": "python",
   "pygments_lexer": "ipython3",
   "version": "3.6.5"
  }
 },
 "nbformat": 4,
 "nbformat_minor": 2
}
