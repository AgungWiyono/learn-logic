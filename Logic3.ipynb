{
 "cells": [
  {
   "cell_type": "markdown",
   "metadata": {},
   "source": [
    "# LOGIC 3"
   ]
  },
  {
   "cell_type": "markdown",
   "metadata": {},
   "source": [
    "## Helper Function"
   ]
  },
  {
   "cell_type": "code",
   "execution_count": 31,
   "metadata": {},
   "outputs": [],
   "source": [
    "import math\n",
    "def crange(size):\n",
    "    return range(1,size+1)\n",
    "\n",
    "def twodigit(param):\n",
    "    text = str(param)\n",
    "    if len(text)<2:\n",
    "        if text.isdigit():\n",
    "            return '0'+text\n",
    "        else:\n",
    "            return '_'+text\n",
    "    else:\n",
    "        return text\n",
    "    \n",
    "def printb(text):\n",
    "    print('{}|'.format(twodigit(text)), end='')\n",
    "\n",
    "def fibo(number):\n",
    "    fib_list = []\n",
    "    a = b = 1\n",
    "    for i in range(number):\n",
    "        fib_list.append(a)\n",
    "        a, b = b, a+b\n",
    "    return fib_list\n",
    "        \n",
    "    "
   ]
  },
  {
   "cell_type": "code",
   "execution_count": 5,
   "metadata": {},
   "outputs": [
    {
     "name": "stdout",
     "output_type": "stream",
     "text": [
      "[1, 1, 2, 3, 5, 8, 13, 21, 34, 55]\n"
     ]
    }
   ],
   "source": [
    "print(fibo(10))"
   ]
  },
  {
   "cell_type": "markdown",
   "metadata": {},
   "source": [
    "## Question 1"
   ]
  },
  {
   "cell_type": "code",
   "execution_count": 6,
   "metadata": {},
   "outputs": [
    {
     "name": "stdout",
     "output_type": "stream",
     "text": [
      "1 1 2 3 5 8 13 21 34 "
     ]
    }
   ],
   "source": [
    "sequence = 9\n",
    "a = b =  1\n",
    "for i in range(sequence):\n",
    "    print(a, end=' ')\n",
    "    a , b=b, a+b"
   ]
  },
  {
   "cell_type": "markdown",
   "metadata": {},
   "source": [
    "## Question 2"
   ]
  },
  {
   "cell_type": "code",
   "execution_count": 42,
   "metadata": {},
   "outputs": [
    {
     "name": "stdout",
     "output_type": "stream",
     "text": [
      "1 1 1 3 5 9 17 31 57 "
     ]
    }
   ],
   "source": [
    "sequence = 9\n",
    "a = b = c = 1\n",
    "for i in range(sequence):\n",
    "    print(a, end=' ')\n",
    "    a, b, c = b, c, a+b+c"
   ]
  },
  {
   "cell_type": "markdown",
   "metadata": {},
   "source": [
    "## Question 3"
   ]
  },
  {
   "cell_type": "code",
   "execution_count": 7,
   "metadata": {},
   "outputs": [],
   "source": [
    "def kpk(a, b):\n",
    "    if b==0:\n",
    "        return(a)\n",
    "    else:\n",
    "        return kpk(b, a%b)\n",
    "def fpb(a, b):\n",
    "    return int(a*b/kpk(a,b))"
   ]
  },
  {
   "cell_type": "code",
   "execution_count": 8,
   "metadata": {},
   "outputs": [
    {
     "name": "stdout",
     "output_type": "stream",
     "text": [
      "6\n",
      "24\n"
     ]
    }
   ],
   "source": [
    "print(kpk(18,12))\n",
    "print(fpb(8,12))"
   ]
  },
  {
   "cell_type": "markdown",
   "metadata": {},
   "source": [
    "## Question 4"
   ]
  },
  {
   "cell_type": "code",
   "execution_count": 11,
   "metadata": {},
   "outputs": [
    {
     "name": "stdout",
     "output_type": "stream",
     "text": [
      "01|_A|_A|_A|_A|_A|_A|_A|16|\n",
      "_D|03|_A|_A|_A|_A|_A|14|_B|\n",
      "_D|_D|05|_A|_A|_A|12|_B|_B|\n",
      "_D|_D|_D|07|_A|10|_B|_B|_B|\n",
      "_D|_D|_D|_D|09|_B|_B|_B|_B|\n",
      "_D|_D|_D|06|_C|11|_B|_B|_B|\n",
      "_D|_D|04|_C|_C|_C|13|_B|_B|\n",
      "_D|02|_C|_C|_C|_C|_C|15|_B|\n",
      "00|_C|_C|_C|_C|_C|_C|_C|17|\n"
     ]
    }
   ],
   "source": [
    "size = 9\n",
    "for i in crange(size):\n",
    "    for j in crange(size):\n",
    "        if i==j:\n",
    "            printb(i*2-1)\n",
    "        elif i==size-(j-1):\n",
    "            printb(size*2-(i*2))\n",
    "        elif i<j and i<size-(j-1):\n",
    "            printb('A')\n",
    "        elif i>j and i>size-(j-1):\n",
    "            printb('C')\n",
    "        elif j<i and j<size-(j-1):\n",
    "            printb('D')\n",
    "        elif j>1 and j>size-(j-1):\n",
    "            printb('B')\n",
    "        else:\n",
    "            printb('_')\n",
    "    print()"
   ]
  },
  {
   "cell_type": "markdown",
   "metadata": {},
   "source": [
    "## Question 5"
   ]
  },
  {
   "cell_type": "code",
   "execution_count": 51,
   "metadata": {},
   "outputs": [
    {
     "name": "stdout",
     "output_type": "stream",
     "text": [
      "01|01|01|01|01|01|01|01|01|\n",
      "01|01|01|01|01|01|01|01|01|\n",
      "02|02|02|02|02|02|02|02|02|\n",
      "03|03|03|03|03|03|03|03|03|\n",
      "05|05|05|05|05|05|05|05|05|\n",
      "03|03|03|03|03|03|03|03|03|\n",
      "02|02|02|02|02|02|02|02|02|\n",
      "01|01|01|01|01|01|01|01|01|\n",
      "01|01|01|01|01|01|01|01|01|\n",
      "===========================\n",
      "01|01|02|03|05|03|02|01|01|\n",
      "01|01|02|03|05|03|02|01|01|\n",
      "01|01|02|03|05|03|02|01|01|\n",
      "01|01|02|03|05|03|02|01|01|\n",
      "01|01|02|03|05|03|02|01|01|\n",
      "01|01|02|03|05|03|02|01|01|\n",
      "01|01|02|03|05|03|02|01|01|\n",
      "01|01|02|03|05|03|02|01|01|\n",
      "01|01|02|03|05|03|02|01|01|\n"
     ]
    }
   ],
   "source": [
    "# Testing only\n",
    "fib_list = [i for i in fibo(5)]\n",
    "f_size = len(fib_list)\n",
    "\n",
    "def printY(param):\n",
    "    if param>f_size:\n",
    "            printb(fib_list[(param-(f_size))*-1-1])\n",
    "    else:\n",
    "            printb(fib_list[param-1])\n",
    "\n",
    "for i in crange(f_size*2-1):\n",
    "    for j in crange(f_size*2-1):\n",
    "        printY(i)\n",
    "    print()\n",
    "print('==='*9)\n",
    "for i in crange(f_size*2-1):\n",
    "    for j in crange(f_size*2-1):\n",
    "        printY(j)\n",
    "    print()\n"
   ]
  },
  {
   "cell_type": "code",
   "execution_count": 26,
   "metadata": {},
   "outputs": [
    {
     "name": "stdout",
     "output_type": "stream",
     "text": [
      "[1, 1, 2, 3]\n",
      "01|01|01|01|01|01|01|\n",
      "01|02|02|02|02|02|01|\n",
      "01|02|03|03|03|02|01|\n",
      "01|02|03|04|03|02|01|\n",
      "01|02|03|03|03|02|01|\n",
      "01|02|02|02|02|02|01|\n",
      "01|01|01|01|01|01|01|\n"
     ]
    }
   ],
   "source": [
    "#Testing only\n",
    "fib_list = fibo(4)\n",
    "size = len(fib_list)*2-1\n",
    "median = math.ceil(size/2)\n",
    "# size = 7\n",
    "print(fib_list)\n",
    "\n",
    "def printVertical():\n",
    "    if j>math.ceil(size/2):\n",
    "        printb(size-j+1)\n",
    "    else:\n",
    "        printb(j)\n",
    "\n",
    "for i in crange(size):\n",
    "    for j in crange(size):\n",
    "        if i<=math.ceil(size/2):\n",
    "            if j>=i and j<=size-(i-1):\n",
    "                printb(i)\n",
    "            else:\n",
    "                printVertical()\n",
    "        else:\n",
    "            if j>size-i and j<i+1:\n",
    "                printb(size-i+1)\n",
    "            else:\n",
    "                printVertical()\n",
    "    print()"
   ]
  },
  {
   "cell_type": "code",
   "execution_count": 27,
   "metadata": {},
   "outputs": [
    {
     "name": "stdout",
     "output_type": "stream",
     "text": [
      "[1, 1, 2, 3, 5, 8]\n",
      "01|01|01|01|01|01|01|01|01|01|01|\n",
      "01|01|01|01|01|01|01|01|01|01|01|\n",
      "01|01|02|02|02|02|02|02|02|01|01|\n",
      "01|01|02|03|03|03|03|03|02|01|01|\n",
      "01|01|02|03|05|05|05|03|02|01|01|\n",
      "01|01|02|03|05|08|05|03|02|01|01|\n",
      "01|01|02|03|05|05|05|03|02|01|01|\n",
      "01|01|02|03|03|03|03|03|02|01|01|\n",
      "01|01|02|02|02|02|02|02|02|01|01|\n",
      "01|01|01|01|01|01|01|01|01|01|01|\n",
      "01|01|01|01|01|01|01|01|01|01|01|\n"
     ]
    }
   ],
   "source": [
    "# Question 5 answer\n",
    "fib_list = fibo(6)\n",
    "size = len(fib_list)*2-1\n",
    "median = math.ceil(size/2)\n",
    "\n",
    "\n",
    "# For printing vertical line\n",
    "# The calculation ba\n",
    "def printVertical():\n",
    "    if j>math.ceil(size/2):\n",
    "        # println(size-j+1)\n",
    "        printb(fib_list[size-j])\n",
    "    else:\n",
    "        # println(j)\n",
    "        printb(fib_list[j-1])\n",
    "\n",
    "# size = 7\n",
    "print(fib_list)\n",
    "for i in crange(size):\n",
    "    for j in crange(size):\n",
    "        if i<=math.ceil(size/2):\n",
    "            if j>=i and j<=size-(i-1):\n",
    "                printb(fib_list[i-1])\n",
    "            else:\n",
    "                printVertical()\n",
    "        else:\n",
    "            if j>size-i and j<i+1:\n",
    "                # println(size-i+1)\n",
    "                printb(fib_list[size-i])\n",
    "            else:\n",
    "                printVertical()                \n",
    "    print()"
   ]
  },
  {
   "cell_type": "markdown",
   "metadata": {},
   "source": [
    "## Question 6"
   ]
  },
  {
   "cell_type": "code",
   "execution_count": 49,
   "metadata": {},
   "outputs": [
    {
     "name": "stdout",
     "output_type": "stream",
     "text": [
      "01|01|01|01|01|01|01|01|01|\n",
      "01|__|__|__|__|__|__|__|01|\n",
      "01|__|03|03|03|03|03|__|01|\n",
      "01|__|03|__|__|__|03|__|01|\n",
      "01|__|03|__|05|__|03|__|01|\n",
      "01|__|03|__|__|__|03|__|01|\n",
      "01|__|03|03|03|03|03|__|01|\n",
      "01|__|__|__|__|__|__|__|01|\n",
      "01|01|01|01|01|01|01|01|01|\n"
     ]
    }
   ],
   "source": [
    "size = 9\n",
    "def evenKiller(number):\n",
    "    if number%2==0:\n",
    "        return '_'\n",
    "    else:\n",
    "        return number\n",
    "\n",
    "for i in crange(size):\n",
    "    for j in crange(size):\n",
    "        if i<=math.ceil(size/2):\n",
    "            if j>=i and j<=size-(i-1):\n",
    "                printb(evenKiller(i))\n",
    "                # printb('A')\n",
    "            else:\n",
    "                if j>math.ceil(size/2):\n",
    "                    printb(evenKiller(size-j+1))\n",
    "                    # printb('B')\n",
    "                else:\n",
    "                    printb(evenKiller(j))\n",
    "                    # printb('C')\n",
    "        else:\n",
    "            if j>size-i and j<i+1:\n",
    "                printb(evenKiller(size-i+1))\n",
    "            else:\n",
    "                if j>math.ceil(size/2):\n",
    "                    printb(evenKiller(size-j+1))\n",
    "                else:\n",
    "                    printb(evenKiller(j))\n",
    "    print()"
   ]
  },
  {
   "cell_type": "markdown",
   "metadata": {},
   "source": [
    "## Question 7"
   ]
  },
  {
   "cell_type": "code",
   "execution_count": 43,
   "metadata": {},
   "outputs": [
    {
     "name": "stdout",
     "output_type": "stream",
     "text": [
      "01|01|01|01|01|01|01|01|01|01|01|01|01|01|01|01|01|01|01|01|01|01|01|01|01|\n",
      "01|__|__|__|__|__|__|__|__|__|__|__|__|__|__|__|__|__|__|__|__|__|__|__|01|\n",
      "01|__|01|01|01|01|01|01|01|01|01|01|01|01|01|01|01|01|01|01|01|01|01|__|01|\n",
      "01|__|01|__|__|__|__|__|__|__|__|__|__|__|__|__|__|__|__|__|__|__|01|__|01|\n",
      "01|__|01|__|02|02|02|02|02|02|02|02|02|02|02|02|02|02|02|02|02|__|01|__|01|\n",
      "01|__|01|__|02|__|__|__|__|__|__|__|__|__|__|__|__|__|__|__|02|__|01|__|01|\n",
      "01|__|01|__|02|__|03|03|03|03|03|03|03|03|03|03|03|03|03|__|02|__|01|__|01|\n",
      "01|__|01|__|02|__|03|__|__|__|__|__|__|__|__|__|__|__|03|__|02|__|01|__|01|\n",
      "01|__|01|__|02|__|03|__|05|05|05|05|05|05|05|05|05|__|03|__|02|__|01|__|01|\n",
      "01|__|01|__|02|__|03|__|05|__|__|__|__|__|__|__|05|__|03|__|02|__|01|__|01|\n",
      "01|__|01|__|02|__|03|__|05|__|08|08|08|08|08|__|05|__|03|__|02|__|01|__|01|\n",
      "01|__|01|__|02|__|03|__|05|__|08|__|__|__|08|__|05|__|03|__|02|__|01|__|01|\n",
      "01|__|01|__|02|__|03|__|05|__|08|__|13|__|08|__|05|__|03|__|02|__|01|__|01|\n",
      "01|__|01|__|02|__|03|__|05|__|08|__|__|__|08|__|05|__|03|__|02|__|01|__|01|\n",
      "01|__|01|__|02|__|03|__|05|__|08|08|08|08|08|__|05|__|03|__|02|__|01|__|01|\n",
      "01|__|01|__|02|__|03|__|05|__|__|__|__|__|__|__|05|__|03|__|02|__|01|__|01|\n",
      "01|__|01|__|02|__|03|__|05|05|05|05|05|05|05|05|05|__|03|__|02|__|01|__|01|\n",
      "01|__|01|__|02|__|03|__|__|__|__|__|__|__|__|__|__|__|03|__|02|__|01|__|01|\n",
      "01|__|01|__|02|__|03|03|03|03|03|03|03|03|03|03|03|03|03|__|02|__|01|__|01|\n",
      "01|__|01|__|02|__|__|__|__|__|__|__|__|__|__|__|__|__|__|__|02|__|01|__|01|\n",
      "01|__|01|__|02|02|02|02|02|02|02|02|02|02|02|02|02|02|02|02|02|__|01|__|01|\n",
      "01|__|01|__|__|__|__|__|__|__|__|__|__|__|__|__|__|__|__|__|__|__|01|__|01|\n",
      "01|__|01|01|01|01|01|01|01|01|01|01|01|01|01|01|01|01|01|01|01|01|01|__|01|\n",
      "01|__|__|__|__|__|__|__|__|__|__|__|__|__|__|__|__|__|__|__|__|__|__|__|01|\n",
      "01|01|01|01|01|01|01|01|01|01|01|01|01|01|01|01|01|01|01|01|01|01|01|01|01|\n"
     ]
    }
   ],
   "source": [
    "data = fibo(7)\n",
    "size = (len(data)-1)*4+1\n",
    "   \n",
    "def evenKillerFont(number):\n",
    "    if number%2==0:\n",
    "        return '_'\n",
    "    else:\n",
    "        if number == 1:\n",
    "            return 1\n",
    "        else:\n",
    "            # return data[math.ceil(number/2)]\n",
    "            return data[math.ceil(number/2)-1]\n",
    "    \n",
    "for i in crange(size):\n",
    "    for j in crange(size):\n",
    "        \n",
    "        # Upper side from the median\n",
    "        if i<=math.ceil(size/2):\n",
    "            # For horizontal line\n",
    "            if j>=i and j<=size-(i-1):\n",
    "                printb(evenKillerFont(i))\n",
    "            # For vertical line\n",
    "            else:\n",
    "                if j>math.ceil(size/2):\n",
    "                    printb(evenKillerFont(size-j+1))\n",
    "                else:\n",
    "                    printb(evenKillerFont(j))\n",
    "        # Lower side from the median\n",
    "        else:\n",
    "            if j>size-i and j<i+1:\n",
    "                printb(evenKillerFont(size-i+1))\n",
    "            else:\n",
    "                if j>math.ceil(size/2):\n",
    "                    printb(evenKillerFont(size-j+1))\n",
    "                else:\n",
    "                    printb(evenKillerFont(j))\n",
    "        \n",
    "    print()"
   ]
  },
  {
   "cell_type": "markdown",
   "metadata": {},
   "source": [
    "## Question 8"
   ]
  },
  {
   "cell_type": "code",
   "execution_count": 48,
   "metadata": {},
   "outputs": [
    {
     "name": "stdout",
     "output_type": "stream",
     "text": [
      "01|01|01|01|01|01|01|01|01|01|01|01|01|01|01|01|01|01|01|01|01|01|01|01|01|\n",
      "01|_A|_A|_A|_A|_A|_A|_A|_A|_A|_A|_A|_A|_A|_A|_A|_A|_A|_A|_A|_A|_A|_A|_A|01|\n",
      "01|_A|01|01|01|01|01|01|01|01|01|01|01|01|01|01|01|01|01|01|01|01|01|_A|01|\n",
      "01|_A|01|_B|_B|_B|_B|_B|_B|_B|_B|_B|_B|_B|_B|_B|_B|_B|_B|_B|_B|_B|01|_A|01|\n",
      "01|_A|01|_B|02|02|02|02|02|02|02|02|02|02|02|02|02|02|02|02|02|_B|01|_A|01|\n",
      "01|_A|01|_B|02|_C|_C|_C|_C|_C|_C|_C|_C|_C|_C|_C|_C|_C|_C|_C|02|_B|01|_A|01|\n",
      "01|_A|01|_B|02|_C|03|03|03|03|03|03|03|03|03|03|03|03|03|_C|02|_B|01|_A|01|\n",
      "01|_A|01|_B|02|_C|03|_D|_D|_D|_D|_D|_D|_D|_D|_D|_D|_D|03|_C|02|_B|01|_A|01|\n",
      "01|_A|01|_B|02|_C|03|_D|05|05|05|05|05|05|05|05|05|_D|03|_C|02|_B|01|_A|01|\n",
      "01|_A|01|_B|02|_C|03|_D|05|_E|_E|_E|_E|_E|_E|_E|05|_D|03|_C|02|_B|01|_A|01|\n",
      "01|_A|01|_B|02|_C|03|_D|05|_E|08|08|08|08|08|_E|05|_D|03|_C|02|_B|01|_A|01|\n",
      "01|_A|01|_B|02|_C|03|_D|05|_E|08|_F|_F|_F|08|_E|05|_D|03|_C|02|_B|01|_A|01|\n",
      "01|_A|01|_B|02|_C|03|_D|05|_E|08|_F|13|_F|08|_E|05|_D|03|_C|02|_B|01|_A|01|\n",
      "01|_A|01|_B|02|_C|03|_D|05|_E|08|_F|_F|_F|08|_E|05|_D|03|_C|02|_B|01|_A|01|\n",
      "01|_A|01|_B|02|_C|03|_D|05|_E|08|08|08|08|08|_E|05|_D|03|_C|02|_B|01|_A|01|\n",
      "01|_A|01|_B|02|_C|03|_D|05|_E|_E|_E|_E|_E|_E|_E|05|_D|03|_C|02|_B|01|_A|01|\n",
      "01|_A|01|_B|02|_C|03|_D|05|05|05|05|05|05|05|05|05|_D|03|_C|02|_B|01|_A|01|\n",
      "01|_A|01|_B|02|_C|03|_D|_D|_D|_D|_D|_D|_D|_D|_D|_D|_D|03|_C|02|_B|01|_A|01|\n",
      "01|_A|01|_B|02|_C|03|03|03|03|03|03|03|03|03|03|03|03|03|_C|02|_B|01|_A|01|\n",
      "01|_A|01|_B|02|_C|_C|_C|_C|_C|_C|_C|_C|_C|_C|_C|_C|_C|_C|_C|02|_B|01|_A|01|\n",
      "01|_A|01|_B|02|02|02|02|02|02|02|02|02|02|02|02|02|02|02|02|02|_B|01|_A|01|\n",
      "01|_A|01|_B|_B|_B|_B|_B|_B|_B|_B|_B|_B|_B|_B|_B|_B|_B|_B|_B|_B|_B|01|_A|01|\n",
      "01|_A|01|01|01|01|01|01|01|01|01|01|01|01|01|01|01|01|01|01|01|01|01|_A|01|\n",
      "01|_A|_A|_A|_A|_A|_A|_A|_A|_A|_A|_A|_A|_A|_A|_A|_A|_A|_A|_A|_A|_A|_A|_A|01|\n",
      "01|01|01|01|01|01|01|01|01|01|01|01|01|01|01|01|01|01|01|01|01|01|01|01|01|\n"
     ]
    }
   ],
   "source": [
    "data = fibo(7)\n",
    "size = (len(data)-1)*4+1\n",
    "    \n",
    "def evenKillerFont(number):\n",
    "    if number%2==0:\n",
    "        return chr(64+number//2)\n",
    "    else:\n",
    "        if number == 1:\n",
    "            return 1\n",
    "        else:\n",
    "            # return data[math.ceil(number/2)]\n",
    "            return data[math.ceil(number/2)-1]\n",
    "        \n",
    "def printVertical():\n",
    "    if j>math.ceil(size/2):\n",
    "        printb(evenKillerFont(size-j+1))\n",
    "        # printb('B')\n",
    "    else:\n",
    "        printb(evenKillerFont(j))\n",
    "        # printb('C')\n",
    "    \n",
    "    \n",
    "for i in crange(size):\n",
    "    for j in crange(size):\n",
    "        \n",
    "        # Upper side from the median\n",
    "        if i<=math.ceil(size/2):\n",
    "            # For horizontal line\n",
    "            if j>=i and j<=size-(i-1):\n",
    "                printb(evenKillerFont(i))\n",
    "                # printb('A')\n",
    "            # For vertical line\n",
    "            else:\n",
    "                printVertical()\n",
    "        # Lower side from the median\n",
    "        else:\n",
    "            if j>size-i and j<i+1:\n",
    "                printb(evenKillerFont(size-i+1))\n",
    "            else:\n",
    "                printVertical()\n",
    "        \n",
    "    print()"
   ]
  },
  {
   "cell_type": "code",
   "execution_count": null,
   "metadata": {},
   "outputs": [],
   "source": []
  }
 ],
 "metadata": {
  "kernelspec": {
   "display_name": "Python 3",
   "language": "python",
   "name": "python3"
  },
  "language_info": {
   "codemirror_mode": {
    "name": "ipython",
    "version": 3
   },
   "file_extension": ".py",
   "mimetype": "text/x-python",
   "name": "python",
   "nbconvert_exporter": "python",
   "pygments_lexer": "ipython3",
   "version": "3.6.6"
  }
 },
 "nbformat": 4,
 "nbformat_minor": 2
}
